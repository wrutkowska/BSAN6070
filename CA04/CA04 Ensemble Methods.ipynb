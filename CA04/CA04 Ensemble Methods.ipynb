{
  "cells": [
    {
      "cell_type": "markdown",
      "id": "7192e677",
      "metadata": {
        "id": "7192e677"
      },
      "source": [
        "# CA04 – Ensemble Models"
      ]
    },
    {
      "cell_type": "markdown",
      "id": "efb3c40b",
      "metadata": {
        "id": "efb3c40b"
      },
      "source": [
        "## 1. Data Source and Content"
      ]
    },
    {
      "cell_type": "code",
      "execution_count": 1,
      "id": "562d8cc4",
      "metadata": {
        "id": "562d8cc4"
      },
      "outputs": [],
      "source": [
        "#Importing neccesary libraries\n",
        "\n",
        "#General libraries:\n",
        "import pandas as pd\n",
        "import numpy as np\n",
        "import matplotlib.pyplot as plt\n",
        "\n",
        "#Libraries for building the models:\n",
        "from sklearn.model_selection import train_test_split\n",
        "from sklearn.ensemble import RandomForestClassifier\n",
        "from sklearn.ensemble import AdaBoostClassifier\n",
        "from sklearn.ensemble import GradientBoostingClassifier \n",
        "import xgboost as xgb \n",
        "from xgboost import XGBClassifier\n",
        "\n",
        "#Libraries for evaluating model performance:\n",
        "from sklearn import metrics\n",
        "from sklearn.metrics import accuracy_score\n",
        "from sklearn.metrics import roc_auc_score"
      ]
    },
    {
      "cell_type": "code",
      "execution_count": 2,
      "id": "de51249a",
      "metadata": {
        "id": "de51249a"
      },
      "outputs": [],
      "source": [
        "#Reading the data\n",
        "df = pd.read_csv('https://github.com/ArinB/MSBA-CA-03-Decision-Trees/blob/master/census_data.csv?raw=true')"
      ]
    },
    {
      "cell_type": "code",
      "execution_count": 3,
      "id": "8eac124b",
      "metadata": {
        "colab": {
          "base_uri": "https://localhost:8080/",
          "height": 319
        },
        "id": "8eac124b",
        "outputId": "00a29262-2c4e-4265-cd15-ac33b1f1a9f2"
      },
      "outputs": [
        {
          "output_type": "execute_result",
          "data": {
            "text/plain": [
              "  hours_per_week_bin occupation_bin  msr_bin capital_gl_bin race_sex_bin  \\\n",
              "0           b. 31-40   b. Mid - Low   b. Mid         c. > 0      c. High   \n",
              "1            a. 0-30        e. High  c. High         a. = 0      c. High   \n",
              "2           b. 31-40         a. Low   b. Mid         a. = 0      c. High   \n",
              "3           b. 31-40         a. Low  c. High         a. = 0       b. Mid   \n",
              "4           b. 31-40        e. High  c. High         a. = 0       a. Low   \n",
              "\n",
              "  education_num_bin education_bin workclass_bin            age_bin   flag  y  \n",
              "0             c. 13  c. Bachelors     b. income   d. 36-40 & 56-60  train  0  \n",
              "1             c. 13  c. Bachelors     b. income           e. 40-55  train  0  \n",
              "2           b. 9-12        b. Mid     b. income   d. 36-40 & 56-60  train  0  \n",
              "3            a. 0-8        a. Low     b. income           e. 40-55  train  0  \n",
              "4             c. 13  c. Bachelors     b. income  b. 26-30 & 71-100  train  0  "
            ],
            "text/html": [
              "\n",
              "  <div id=\"df-4dc69c4a-a1c9-4607-95f6-d685b7148f86\">\n",
              "    <div class=\"colab-df-container\">\n",
              "      <div>\n",
              "<style scoped>\n",
              "    .dataframe tbody tr th:only-of-type {\n",
              "        vertical-align: middle;\n",
              "    }\n",
              "\n",
              "    .dataframe tbody tr th {\n",
              "        vertical-align: top;\n",
              "    }\n",
              "\n",
              "    .dataframe thead th {\n",
              "        text-align: right;\n",
              "    }\n",
              "</style>\n",
              "<table border=\"1\" class=\"dataframe\">\n",
              "  <thead>\n",
              "    <tr style=\"text-align: right;\">\n",
              "      <th></th>\n",
              "      <th>hours_per_week_bin</th>\n",
              "      <th>occupation_bin</th>\n",
              "      <th>msr_bin</th>\n",
              "      <th>capital_gl_bin</th>\n",
              "      <th>race_sex_bin</th>\n",
              "      <th>education_num_bin</th>\n",
              "      <th>education_bin</th>\n",
              "      <th>workclass_bin</th>\n",
              "      <th>age_bin</th>\n",
              "      <th>flag</th>\n",
              "      <th>y</th>\n",
              "    </tr>\n",
              "  </thead>\n",
              "  <tbody>\n",
              "    <tr>\n",
              "      <th>0</th>\n",
              "      <td>b. 31-40</td>\n",
              "      <td>b. Mid - Low</td>\n",
              "      <td>b. Mid</td>\n",
              "      <td>c. &gt; 0</td>\n",
              "      <td>c. High</td>\n",
              "      <td>c. 13</td>\n",
              "      <td>c. Bachelors</td>\n",
              "      <td>b. income</td>\n",
              "      <td>d. 36-40 &amp; 56-60</td>\n",
              "      <td>train</td>\n",
              "      <td>0</td>\n",
              "    </tr>\n",
              "    <tr>\n",
              "      <th>1</th>\n",
              "      <td>a. 0-30</td>\n",
              "      <td>e. High</td>\n",
              "      <td>c. High</td>\n",
              "      <td>a. = 0</td>\n",
              "      <td>c. High</td>\n",
              "      <td>c. 13</td>\n",
              "      <td>c. Bachelors</td>\n",
              "      <td>b. income</td>\n",
              "      <td>e. 40-55</td>\n",
              "      <td>train</td>\n",
              "      <td>0</td>\n",
              "    </tr>\n",
              "    <tr>\n",
              "      <th>2</th>\n",
              "      <td>b. 31-40</td>\n",
              "      <td>a. Low</td>\n",
              "      <td>b. Mid</td>\n",
              "      <td>a. = 0</td>\n",
              "      <td>c. High</td>\n",
              "      <td>b. 9-12</td>\n",
              "      <td>b. Mid</td>\n",
              "      <td>b. income</td>\n",
              "      <td>d. 36-40 &amp; 56-60</td>\n",
              "      <td>train</td>\n",
              "      <td>0</td>\n",
              "    </tr>\n",
              "    <tr>\n",
              "      <th>3</th>\n",
              "      <td>b. 31-40</td>\n",
              "      <td>a. Low</td>\n",
              "      <td>c. High</td>\n",
              "      <td>a. = 0</td>\n",
              "      <td>b. Mid</td>\n",
              "      <td>a. 0-8</td>\n",
              "      <td>a. Low</td>\n",
              "      <td>b. income</td>\n",
              "      <td>e. 40-55</td>\n",
              "      <td>train</td>\n",
              "      <td>0</td>\n",
              "    </tr>\n",
              "    <tr>\n",
              "      <th>4</th>\n",
              "      <td>b. 31-40</td>\n",
              "      <td>e. High</td>\n",
              "      <td>c. High</td>\n",
              "      <td>a. = 0</td>\n",
              "      <td>a. Low</td>\n",
              "      <td>c. 13</td>\n",
              "      <td>c. Bachelors</td>\n",
              "      <td>b. income</td>\n",
              "      <td>b. 26-30 &amp; 71-100</td>\n",
              "      <td>train</td>\n",
              "      <td>0</td>\n",
              "    </tr>\n",
              "  </tbody>\n",
              "</table>\n",
              "</div>\n",
              "      <button class=\"colab-df-convert\" onclick=\"convertToInteractive('df-4dc69c4a-a1c9-4607-95f6-d685b7148f86')\"\n",
              "              title=\"Convert this dataframe to an interactive table.\"\n",
              "              style=\"display:none;\">\n",
              "        \n",
              "  <svg xmlns=\"http://www.w3.org/2000/svg\" height=\"24px\"viewBox=\"0 0 24 24\"\n",
              "       width=\"24px\">\n",
              "    <path d=\"M0 0h24v24H0V0z\" fill=\"none\"/>\n",
              "    <path d=\"M18.56 5.44l.94 2.06.94-2.06 2.06-.94-2.06-.94-.94-2.06-.94 2.06-2.06.94zm-11 1L8.5 8.5l.94-2.06 2.06-.94-2.06-.94L8.5 2.5l-.94 2.06-2.06.94zm10 10l.94 2.06.94-2.06 2.06-.94-2.06-.94-.94-2.06-.94 2.06-2.06.94z\"/><path d=\"M17.41 7.96l-1.37-1.37c-.4-.4-.92-.59-1.43-.59-.52 0-1.04.2-1.43.59L10.3 9.45l-7.72 7.72c-.78.78-.78 2.05 0 2.83L4 21.41c.39.39.9.59 1.41.59.51 0 1.02-.2 1.41-.59l7.78-7.78 2.81-2.81c.8-.78.8-2.07 0-2.86zM5.41 20L4 18.59l7.72-7.72 1.47 1.35L5.41 20z\"/>\n",
              "  </svg>\n",
              "      </button>\n",
              "      \n",
              "  <style>\n",
              "    .colab-df-container {\n",
              "      display:flex;\n",
              "      flex-wrap:wrap;\n",
              "      gap: 12px;\n",
              "    }\n",
              "\n",
              "    .colab-df-convert {\n",
              "      background-color: #E8F0FE;\n",
              "      border: none;\n",
              "      border-radius: 50%;\n",
              "      cursor: pointer;\n",
              "      display: none;\n",
              "      fill: #1967D2;\n",
              "      height: 32px;\n",
              "      padding: 0 0 0 0;\n",
              "      width: 32px;\n",
              "    }\n",
              "\n",
              "    .colab-df-convert:hover {\n",
              "      background-color: #E2EBFA;\n",
              "      box-shadow: 0px 1px 2px rgba(60, 64, 67, 0.3), 0px 1px 3px 1px rgba(60, 64, 67, 0.15);\n",
              "      fill: #174EA6;\n",
              "    }\n",
              "\n",
              "    [theme=dark] .colab-df-convert {\n",
              "      background-color: #3B4455;\n",
              "      fill: #D2E3FC;\n",
              "    }\n",
              "\n",
              "    [theme=dark] .colab-df-convert:hover {\n",
              "      background-color: #434B5C;\n",
              "      box-shadow: 0px 1px 3px 1px rgba(0, 0, 0, 0.15);\n",
              "      filter: drop-shadow(0px 1px 2px rgba(0, 0, 0, 0.3));\n",
              "      fill: #FFFFFF;\n",
              "    }\n",
              "  </style>\n",
              "\n",
              "      <script>\n",
              "        const buttonEl =\n",
              "          document.querySelector('#df-4dc69c4a-a1c9-4607-95f6-d685b7148f86 button.colab-df-convert');\n",
              "        buttonEl.style.display =\n",
              "          google.colab.kernel.accessAllowed ? 'block' : 'none';\n",
              "\n",
              "        async function convertToInteractive(key) {\n",
              "          const element = document.querySelector('#df-4dc69c4a-a1c9-4607-95f6-d685b7148f86');\n",
              "          const dataTable =\n",
              "            await google.colab.kernel.invokeFunction('convertToInteractive',\n",
              "                                                     [key], {});\n",
              "          if (!dataTable) return;\n",
              "\n",
              "          const docLinkHtml = 'Like what you see? Visit the ' +\n",
              "            '<a target=\"_blank\" href=https://colab.research.google.com/notebooks/data_table.ipynb>data table notebook</a>'\n",
              "            + ' to learn more about interactive tables.';\n",
              "          element.innerHTML = '';\n",
              "          dataTable['output_type'] = 'display_data';\n",
              "          await google.colab.output.renderOutput(dataTable, element);\n",
              "          const docLink = document.createElement('div');\n",
              "          docLink.innerHTML = docLinkHtml;\n",
              "          element.appendChild(docLink);\n",
              "        }\n",
              "      </script>\n",
              "    </div>\n",
              "  </div>\n",
              "  "
            ]
          },
          "metadata": {},
          "execution_count": 3
        }
      ],
      "source": [
        "#Checking first few rows of data\n",
        "df.head()"
      ]
    },
    {
      "cell_type": "code",
      "execution_count": 4,
      "id": "2b1e1055",
      "metadata": {
        "colab": {
          "base_uri": "https://localhost:8080/"
        },
        "id": "2b1e1055",
        "outputId": "e0379185-e6b7-49f4-b2ce-a410a920d36b"
      },
      "outputs": [
        {
          "output_type": "execute_result",
          "data": {
            "text/plain": [
              "(48842, 11)"
            ]
          },
          "metadata": {},
          "execution_count": 4
        }
      ],
      "source": [
        "#Checking shape of the dataframe\n",
        "df.shape"
      ]
    },
    {
      "cell_type": "code",
      "execution_count": 5,
      "id": "59c7579a",
      "metadata": {
        "colab": {
          "base_uri": "https://localhost:8080/"
        },
        "id": "59c7579a",
        "outputId": "c36818d3-331e-4175-fdea-7a911d866017"
      },
      "outputs": [
        {
          "output_type": "stream",
          "name": "stdout",
          "text": [
            "<class 'pandas.core.frame.DataFrame'>\n",
            "RangeIndex: 48842 entries, 0 to 48841\n",
            "Data columns (total 11 columns):\n",
            " #   Column              Non-Null Count  Dtype \n",
            "---  ------              --------------  ----- \n",
            " 0   hours_per_week_bin  48842 non-null  object\n",
            " 1   occupation_bin      48842 non-null  object\n",
            " 2   msr_bin             48842 non-null  object\n",
            " 3   capital_gl_bin      48842 non-null  object\n",
            " 4   race_sex_bin        48842 non-null  object\n",
            " 5   education_num_bin   48842 non-null  object\n",
            " 6   education_bin       48842 non-null  object\n",
            " 7   workclass_bin       48842 non-null  object\n",
            " 8   age_bin             48842 non-null  object\n",
            " 9   flag                48842 non-null  object\n",
            " 10  y                   48842 non-null  int64 \n",
            "dtypes: int64(1), object(10)\n",
            "memory usage: 4.1+ MB\n"
          ]
        }
      ],
      "source": [
        "#Checking data types of each variable\n",
        "df.info()"
      ]
    },
    {
      "cell_type": "markdown",
      "id": "9ec1ff04",
      "metadata": {
        "id": "9ec1ff04"
      },
      "source": [
        "## Label Encoding & Data Splitting"
      ]
    },
    {
      "cell_type": "markdown",
      "id": "dd3789a7",
      "metadata": {
        "id": "dd3789a7"
      },
      "source": [
        "**Encoding**"
      ]
    },
    {
      "cell_type": "code",
      "execution_count": 6,
      "id": "5b1df399",
      "metadata": {
        "id": "5b1df399"
      },
      "outputs": [],
      "source": [
        "#Converting categorical variables to dummy variables through one-hot encoding\n",
        "cols = [\"workclass_bin\", \"education_num_bin\", \"education_bin\", \"msr_bin\", \"age_bin\", \"race_sex_bin\",\n",
        "                  \"capital_gl_bin\", \"occupation_bin\", \"hours_per_week_bin\"]\n",
        "encoded_df = pd.get_dummies(df, columns=cols)"
      ]
    },
    {
      "cell_type": "code",
      "execution_count": 7,
      "id": "62b91f09",
      "metadata": {
        "colab": {
          "base_uri": "https://localhost:8080/",
          "height": 314
        },
        "id": "62b91f09",
        "outputId": "5cd32fdf-1446-46af-e3e2-fea2003bf87c"
      },
      "outputs": [
        {
          "output_type": "execute_result",
          "data": {
            "text/plain": [
              "    flag  y  workclass_bin_a. no income  workclass_bin_b. income  \\\n",
              "0  train  0                           0                        1   \n",
              "1  train  0                           0                        1   \n",
              "2  train  0                           0                        1   \n",
              "3  train  0                           0                        1   \n",
              "4  train  0                           0                        1   \n",
              "\n",
              "   education_num_bin_a. 0-8  education_num_bin_b. 9-12  \\\n",
              "0                         0                          0   \n",
              "1                         0                          0   \n",
              "2                         0                          1   \n",
              "3                         1                          0   \n",
              "4                         0                          0   \n",
              "\n",
              "   education_num_bin_c. 13  education_num_bin_d. 14  education_num_bin_e. 15+  \\\n",
              "0                        1                        0                         0   \n",
              "1                        1                        0                         0   \n",
              "2                        0                        0                         0   \n",
              "3                        0                        0                         0   \n",
              "4                        1                        0                         0   \n",
              "\n",
              "   education_bin_a. Low  ...  occupation_bin_a. Low  \\\n",
              "0                     0  ...                      0   \n",
              "1                     0  ...                      0   \n",
              "2                     0  ...                      1   \n",
              "3                     1  ...                      1   \n",
              "4                     0  ...                      0   \n",
              "\n",
              "   occupation_bin_b. Mid - Low  occupation_bin_c. Mid - Mid  \\\n",
              "0                            1                            0   \n",
              "1                            0                            0   \n",
              "2                            0                            0   \n",
              "3                            0                            0   \n",
              "4                            0                            0   \n",
              "\n",
              "   occupation_bin_d. Mid - High  occupation_bin_e. High  \\\n",
              "0                             0                       0   \n",
              "1                             0                       1   \n",
              "2                             0                       0   \n",
              "3                             0                       0   \n",
              "4                             0                       1   \n",
              "\n",
              "   hours_per_week_bin_a. 0-30  hours_per_week_bin_b. 31-40  \\\n",
              "0                           0                            1   \n",
              "1                           1                            0   \n",
              "2                           0                            1   \n",
              "3                           0                            1   \n",
              "4                           0                            1   \n",
              "\n",
              "   hours_per_week_bin_c. 71-100  hours_per_week_bin_d. 41-50 & 61-70  \\\n",
              "0                             0                                    0   \n",
              "1                             0                                    0   \n",
              "2                             0                                    0   \n",
              "3                             0                                    0   \n",
              "4                             0                                    0   \n",
              "\n",
              "   hours_per_week_bin_e. 51-60  \n",
              "0                            0  \n",
              "1                            0  \n",
              "2                            0  \n",
              "3                            0  \n",
              "4                            0  \n",
              "\n",
              "[5 rows x 38 columns]"
            ],
            "text/html": [
              "\n",
              "  <div id=\"df-2e852c9d-1129-42e5-8fd6-27a88f77f680\">\n",
              "    <div class=\"colab-df-container\">\n",
              "      <div>\n",
              "<style scoped>\n",
              "    .dataframe tbody tr th:only-of-type {\n",
              "        vertical-align: middle;\n",
              "    }\n",
              "\n",
              "    .dataframe tbody tr th {\n",
              "        vertical-align: top;\n",
              "    }\n",
              "\n",
              "    .dataframe thead th {\n",
              "        text-align: right;\n",
              "    }\n",
              "</style>\n",
              "<table border=\"1\" class=\"dataframe\">\n",
              "  <thead>\n",
              "    <tr style=\"text-align: right;\">\n",
              "      <th></th>\n",
              "      <th>flag</th>\n",
              "      <th>y</th>\n",
              "      <th>workclass_bin_a. no income</th>\n",
              "      <th>workclass_bin_b. income</th>\n",
              "      <th>education_num_bin_a. 0-8</th>\n",
              "      <th>education_num_bin_b. 9-12</th>\n",
              "      <th>education_num_bin_c. 13</th>\n",
              "      <th>education_num_bin_d. 14</th>\n",
              "      <th>education_num_bin_e. 15+</th>\n",
              "      <th>education_bin_a. Low</th>\n",
              "      <th>...</th>\n",
              "      <th>occupation_bin_a. Low</th>\n",
              "      <th>occupation_bin_b. Mid - Low</th>\n",
              "      <th>occupation_bin_c. Mid - Mid</th>\n",
              "      <th>occupation_bin_d. Mid - High</th>\n",
              "      <th>occupation_bin_e. High</th>\n",
              "      <th>hours_per_week_bin_a. 0-30</th>\n",
              "      <th>hours_per_week_bin_b. 31-40</th>\n",
              "      <th>hours_per_week_bin_c. 71-100</th>\n",
              "      <th>hours_per_week_bin_d. 41-50 &amp; 61-70</th>\n",
              "      <th>hours_per_week_bin_e. 51-60</th>\n",
              "    </tr>\n",
              "  </thead>\n",
              "  <tbody>\n",
              "    <tr>\n",
              "      <th>0</th>\n",
              "      <td>train</td>\n",
              "      <td>0</td>\n",
              "      <td>0</td>\n",
              "      <td>1</td>\n",
              "      <td>0</td>\n",
              "      <td>0</td>\n",
              "      <td>1</td>\n",
              "      <td>0</td>\n",
              "      <td>0</td>\n",
              "      <td>0</td>\n",
              "      <td>...</td>\n",
              "      <td>0</td>\n",
              "      <td>1</td>\n",
              "      <td>0</td>\n",
              "      <td>0</td>\n",
              "      <td>0</td>\n",
              "      <td>0</td>\n",
              "      <td>1</td>\n",
              "      <td>0</td>\n",
              "      <td>0</td>\n",
              "      <td>0</td>\n",
              "    </tr>\n",
              "    <tr>\n",
              "      <th>1</th>\n",
              "      <td>train</td>\n",
              "      <td>0</td>\n",
              "      <td>0</td>\n",
              "      <td>1</td>\n",
              "      <td>0</td>\n",
              "      <td>0</td>\n",
              "      <td>1</td>\n",
              "      <td>0</td>\n",
              "      <td>0</td>\n",
              "      <td>0</td>\n",
              "      <td>...</td>\n",
              "      <td>0</td>\n",
              "      <td>0</td>\n",
              "      <td>0</td>\n",
              "      <td>0</td>\n",
              "      <td>1</td>\n",
              "      <td>1</td>\n",
              "      <td>0</td>\n",
              "      <td>0</td>\n",
              "      <td>0</td>\n",
              "      <td>0</td>\n",
              "    </tr>\n",
              "    <tr>\n",
              "      <th>2</th>\n",
              "      <td>train</td>\n",
              "      <td>0</td>\n",
              "      <td>0</td>\n",
              "      <td>1</td>\n",
              "      <td>0</td>\n",
              "      <td>1</td>\n",
              "      <td>0</td>\n",
              "      <td>0</td>\n",
              "      <td>0</td>\n",
              "      <td>0</td>\n",
              "      <td>...</td>\n",
              "      <td>1</td>\n",
              "      <td>0</td>\n",
              "      <td>0</td>\n",
              "      <td>0</td>\n",
              "      <td>0</td>\n",
              "      <td>0</td>\n",
              "      <td>1</td>\n",
              "      <td>0</td>\n",
              "      <td>0</td>\n",
              "      <td>0</td>\n",
              "    </tr>\n",
              "    <tr>\n",
              "      <th>3</th>\n",
              "      <td>train</td>\n",
              "      <td>0</td>\n",
              "      <td>0</td>\n",
              "      <td>1</td>\n",
              "      <td>1</td>\n",
              "      <td>0</td>\n",
              "      <td>0</td>\n",
              "      <td>0</td>\n",
              "      <td>0</td>\n",
              "      <td>1</td>\n",
              "      <td>...</td>\n",
              "      <td>1</td>\n",
              "      <td>0</td>\n",
              "      <td>0</td>\n",
              "      <td>0</td>\n",
              "      <td>0</td>\n",
              "      <td>0</td>\n",
              "      <td>1</td>\n",
              "      <td>0</td>\n",
              "      <td>0</td>\n",
              "      <td>0</td>\n",
              "    </tr>\n",
              "    <tr>\n",
              "      <th>4</th>\n",
              "      <td>train</td>\n",
              "      <td>0</td>\n",
              "      <td>0</td>\n",
              "      <td>1</td>\n",
              "      <td>0</td>\n",
              "      <td>0</td>\n",
              "      <td>1</td>\n",
              "      <td>0</td>\n",
              "      <td>0</td>\n",
              "      <td>0</td>\n",
              "      <td>...</td>\n",
              "      <td>0</td>\n",
              "      <td>0</td>\n",
              "      <td>0</td>\n",
              "      <td>0</td>\n",
              "      <td>1</td>\n",
              "      <td>0</td>\n",
              "      <td>1</td>\n",
              "      <td>0</td>\n",
              "      <td>0</td>\n",
              "      <td>0</td>\n",
              "    </tr>\n",
              "  </tbody>\n",
              "</table>\n",
              "<p>5 rows × 38 columns</p>\n",
              "</div>\n",
              "      <button class=\"colab-df-convert\" onclick=\"convertToInteractive('df-2e852c9d-1129-42e5-8fd6-27a88f77f680')\"\n",
              "              title=\"Convert this dataframe to an interactive table.\"\n",
              "              style=\"display:none;\">\n",
              "        \n",
              "  <svg xmlns=\"http://www.w3.org/2000/svg\" height=\"24px\"viewBox=\"0 0 24 24\"\n",
              "       width=\"24px\">\n",
              "    <path d=\"M0 0h24v24H0V0z\" fill=\"none\"/>\n",
              "    <path d=\"M18.56 5.44l.94 2.06.94-2.06 2.06-.94-2.06-.94-.94-2.06-.94 2.06-2.06.94zm-11 1L8.5 8.5l.94-2.06 2.06-.94-2.06-.94L8.5 2.5l-.94 2.06-2.06.94zm10 10l.94 2.06.94-2.06 2.06-.94-2.06-.94-.94-2.06-.94 2.06-2.06.94z\"/><path d=\"M17.41 7.96l-1.37-1.37c-.4-.4-.92-.59-1.43-.59-.52 0-1.04.2-1.43.59L10.3 9.45l-7.72 7.72c-.78.78-.78 2.05 0 2.83L4 21.41c.39.39.9.59 1.41.59.51 0 1.02-.2 1.41-.59l7.78-7.78 2.81-2.81c.8-.78.8-2.07 0-2.86zM5.41 20L4 18.59l7.72-7.72 1.47 1.35L5.41 20z\"/>\n",
              "  </svg>\n",
              "      </button>\n",
              "      \n",
              "  <style>\n",
              "    .colab-df-container {\n",
              "      display:flex;\n",
              "      flex-wrap:wrap;\n",
              "      gap: 12px;\n",
              "    }\n",
              "\n",
              "    .colab-df-convert {\n",
              "      background-color: #E8F0FE;\n",
              "      border: none;\n",
              "      border-radius: 50%;\n",
              "      cursor: pointer;\n",
              "      display: none;\n",
              "      fill: #1967D2;\n",
              "      height: 32px;\n",
              "      padding: 0 0 0 0;\n",
              "      width: 32px;\n",
              "    }\n",
              "\n",
              "    .colab-df-convert:hover {\n",
              "      background-color: #E2EBFA;\n",
              "      box-shadow: 0px 1px 2px rgba(60, 64, 67, 0.3), 0px 1px 3px 1px rgba(60, 64, 67, 0.15);\n",
              "      fill: #174EA6;\n",
              "    }\n",
              "\n",
              "    [theme=dark] .colab-df-convert {\n",
              "      background-color: #3B4455;\n",
              "      fill: #D2E3FC;\n",
              "    }\n",
              "\n",
              "    [theme=dark] .colab-df-convert:hover {\n",
              "      background-color: #434B5C;\n",
              "      box-shadow: 0px 1px 3px 1px rgba(0, 0, 0, 0.15);\n",
              "      filter: drop-shadow(0px 1px 2px rgba(0, 0, 0, 0.3));\n",
              "      fill: #FFFFFF;\n",
              "    }\n",
              "  </style>\n",
              "\n",
              "      <script>\n",
              "        const buttonEl =\n",
              "          document.querySelector('#df-2e852c9d-1129-42e5-8fd6-27a88f77f680 button.colab-df-convert');\n",
              "        buttonEl.style.display =\n",
              "          google.colab.kernel.accessAllowed ? 'block' : 'none';\n",
              "\n",
              "        async function convertToInteractive(key) {\n",
              "          const element = document.querySelector('#df-2e852c9d-1129-42e5-8fd6-27a88f77f680');\n",
              "          const dataTable =\n",
              "            await google.colab.kernel.invokeFunction('convertToInteractive',\n",
              "                                                     [key], {});\n",
              "          if (!dataTable) return;\n",
              "\n",
              "          const docLinkHtml = 'Like what you see? Visit the ' +\n",
              "            '<a target=\"_blank\" href=https://colab.research.google.com/notebooks/data_table.ipynb>data table notebook</a>'\n",
              "            + ' to learn more about interactive tables.';\n",
              "          element.innerHTML = '';\n",
              "          dataTable['output_type'] = 'display_data';\n",
              "          await google.colab.output.renderOutput(dataTable, element);\n",
              "          const docLink = document.createElement('div');\n",
              "          docLink.innerHTML = docLinkHtml;\n",
              "          element.appendChild(docLink);\n",
              "        }\n",
              "      </script>\n",
              "    </div>\n",
              "  </div>\n",
              "  "
            ]
          },
          "metadata": {},
          "execution_count": 7
        }
      ],
      "source": [
        "encoded_df.head()"
      ]
    },
    {
      "cell_type": "markdown",
      "id": "1c88a576",
      "metadata": {
        "id": "1c88a576"
      },
      "source": [
        "**Spliting the data to train and test**"
      ]
    },
    {
      "cell_type": "code",
      "execution_count": 8,
      "id": "054ae5a4",
      "metadata": {
        "colab": {
          "base_uri": "https://localhost:8080/",
          "height": 314
        },
        "id": "054ae5a4",
        "outputId": "9109c340-3a70-4ac2-8e5f-b3de63a6fc49"
      },
      "outputs": [
        {
          "output_type": "execute_result",
          "data": {
            "text/plain": [
              "    flag  y  workclass_bin_a. no income  workclass_bin_b. income  \\\n",
              "0  train  0                           0                        1   \n",
              "1  train  0                           0                        1   \n",
              "2  train  0                           0                        1   \n",
              "3  train  0                           0                        1   \n",
              "4  train  0                           0                        1   \n",
              "\n",
              "   education_num_bin_a. 0-8  education_num_bin_b. 9-12  \\\n",
              "0                         0                          0   \n",
              "1                         0                          0   \n",
              "2                         0                          1   \n",
              "3                         1                          0   \n",
              "4                         0                          0   \n",
              "\n",
              "   education_num_bin_c. 13  education_num_bin_d. 14  education_num_bin_e. 15+  \\\n",
              "0                        1                        0                         0   \n",
              "1                        1                        0                         0   \n",
              "2                        0                        0                         0   \n",
              "3                        0                        0                         0   \n",
              "4                        1                        0                         0   \n",
              "\n",
              "   education_bin_a. Low  ...  occupation_bin_a. Low  \\\n",
              "0                     0  ...                      0   \n",
              "1                     0  ...                      0   \n",
              "2                     0  ...                      1   \n",
              "3                     1  ...                      1   \n",
              "4                     0  ...                      0   \n",
              "\n",
              "   occupation_bin_b. Mid - Low  occupation_bin_c. Mid - Mid  \\\n",
              "0                            1                            0   \n",
              "1                            0                            0   \n",
              "2                            0                            0   \n",
              "3                            0                            0   \n",
              "4                            0                            0   \n",
              "\n",
              "   occupation_bin_d. Mid - High  occupation_bin_e. High  \\\n",
              "0                             0                       0   \n",
              "1                             0                       1   \n",
              "2                             0                       0   \n",
              "3                             0                       0   \n",
              "4                             0                       1   \n",
              "\n",
              "   hours_per_week_bin_a. 0-30  hours_per_week_bin_b. 31-40  \\\n",
              "0                           0                            1   \n",
              "1                           1                            0   \n",
              "2                           0                            1   \n",
              "3                           0                            1   \n",
              "4                           0                            1   \n",
              "\n",
              "   hours_per_week_bin_c. 71-100  hours_per_week_bin_d. 41-50 & 61-70  \\\n",
              "0                             0                                    0   \n",
              "1                             0                                    0   \n",
              "2                             0                                    0   \n",
              "3                             0                                    0   \n",
              "4                             0                                    0   \n",
              "\n",
              "   hours_per_week_bin_e. 51-60  \n",
              "0                            0  \n",
              "1                            0  \n",
              "2                            0  \n",
              "3                            0  \n",
              "4                            0  \n",
              "\n",
              "[5 rows x 38 columns]"
            ],
            "text/html": [
              "\n",
              "  <div id=\"df-ec99a46c-021d-4e28-8663-fc265516b29d\">\n",
              "    <div class=\"colab-df-container\">\n",
              "      <div>\n",
              "<style scoped>\n",
              "    .dataframe tbody tr th:only-of-type {\n",
              "        vertical-align: middle;\n",
              "    }\n",
              "\n",
              "    .dataframe tbody tr th {\n",
              "        vertical-align: top;\n",
              "    }\n",
              "\n",
              "    .dataframe thead th {\n",
              "        text-align: right;\n",
              "    }\n",
              "</style>\n",
              "<table border=\"1\" class=\"dataframe\">\n",
              "  <thead>\n",
              "    <tr style=\"text-align: right;\">\n",
              "      <th></th>\n",
              "      <th>flag</th>\n",
              "      <th>y</th>\n",
              "      <th>workclass_bin_a. no income</th>\n",
              "      <th>workclass_bin_b. income</th>\n",
              "      <th>education_num_bin_a. 0-8</th>\n",
              "      <th>education_num_bin_b. 9-12</th>\n",
              "      <th>education_num_bin_c. 13</th>\n",
              "      <th>education_num_bin_d. 14</th>\n",
              "      <th>education_num_bin_e. 15+</th>\n",
              "      <th>education_bin_a. Low</th>\n",
              "      <th>...</th>\n",
              "      <th>occupation_bin_a. Low</th>\n",
              "      <th>occupation_bin_b. Mid - Low</th>\n",
              "      <th>occupation_bin_c. Mid - Mid</th>\n",
              "      <th>occupation_bin_d. Mid - High</th>\n",
              "      <th>occupation_bin_e. High</th>\n",
              "      <th>hours_per_week_bin_a. 0-30</th>\n",
              "      <th>hours_per_week_bin_b. 31-40</th>\n",
              "      <th>hours_per_week_bin_c. 71-100</th>\n",
              "      <th>hours_per_week_bin_d. 41-50 &amp; 61-70</th>\n",
              "      <th>hours_per_week_bin_e. 51-60</th>\n",
              "    </tr>\n",
              "  </thead>\n",
              "  <tbody>\n",
              "    <tr>\n",
              "      <th>0</th>\n",
              "      <td>train</td>\n",
              "      <td>0</td>\n",
              "      <td>0</td>\n",
              "      <td>1</td>\n",
              "      <td>0</td>\n",
              "      <td>0</td>\n",
              "      <td>1</td>\n",
              "      <td>0</td>\n",
              "      <td>0</td>\n",
              "      <td>0</td>\n",
              "      <td>...</td>\n",
              "      <td>0</td>\n",
              "      <td>1</td>\n",
              "      <td>0</td>\n",
              "      <td>0</td>\n",
              "      <td>0</td>\n",
              "      <td>0</td>\n",
              "      <td>1</td>\n",
              "      <td>0</td>\n",
              "      <td>0</td>\n",
              "      <td>0</td>\n",
              "    </tr>\n",
              "    <tr>\n",
              "      <th>1</th>\n",
              "      <td>train</td>\n",
              "      <td>0</td>\n",
              "      <td>0</td>\n",
              "      <td>1</td>\n",
              "      <td>0</td>\n",
              "      <td>0</td>\n",
              "      <td>1</td>\n",
              "      <td>0</td>\n",
              "      <td>0</td>\n",
              "      <td>0</td>\n",
              "      <td>...</td>\n",
              "      <td>0</td>\n",
              "      <td>0</td>\n",
              "      <td>0</td>\n",
              "      <td>0</td>\n",
              "      <td>1</td>\n",
              "      <td>1</td>\n",
              "      <td>0</td>\n",
              "      <td>0</td>\n",
              "      <td>0</td>\n",
              "      <td>0</td>\n",
              "    </tr>\n",
              "    <tr>\n",
              "      <th>2</th>\n",
              "      <td>train</td>\n",
              "      <td>0</td>\n",
              "      <td>0</td>\n",
              "      <td>1</td>\n",
              "      <td>0</td>\n",
              "      <td>1</td>\n",
              "      <td>0</td>\n",
              "      <td>0</td>\n",
              "      <td>0</td>\n",
              "      <td>0</td>\n",
              "      <td>...</td>\n",
              "      <td>1</td>\n",
              "      <td>0</td>\n",
              "      <td>0</td>\n",
              "      <td>0</td>\n",
              "      <td>0</td>\n",
              "      <td>0</td>\n",
              "      <td>1</td>\n",
              "      <td>0</td>\n",
              "      <td>0</td>\n",
              "      <td>0</td>\n",
              "    </tr>\n",
              "    <tr>\n",
              "      <th>3</th>\n",
              "      <td>train</td>\n",
              "      <td>0</td>\n",
              "      <td>0</td>\n",
              "      <td>1</td>\n",
              "      <td>1</td>\n",
              "      <td>0</td>\n",
              "      <td>0</td>\n",
              "      <td>0</td>\n",
              "      <td>0</td>\n",
              "      <td>1</td>\n",
              "      <td>...</td>\n",
              "      <td>1</td>\n",
              "      <td>0</td>\n",
              "      <td>0</td>\n",
              "      <td>0</td>\n",
              "      <td>0</td>\n",
              "      <td>0</td>\n",
              "      <td>1</td>\n",
              "      <td>0</td>\n",
              "      <td>0</td>\n",
              "      <td>0</td>\n",
              "    </tr>\n",
              "    <tr>\n",
              "      <th>4</th>\n",
              "      <td>train</td>\n",
              "      <td>0</td>\n",
              "      <td>0</td>\n",
              "      <td>1</td>\n",
              "      <td>0</td>\n",
              "      <td>0</td>\n",
              "      <td>1</td>\n",
              "      <td>0</td>\n",
              "      <td>0</td>\n",
              "      <td>0</td>\n",
              "      <td>...</td>\n",
              "      <td>0</td>\n",
              "      <td>0</td>\n",
              "      <td>0</td>\n",
              "      <td>0</td>\n",
              "      <td>1</td>\n",
              "      <td>0</td>\n",
              "      <td>1</td>\n",
              "      <td>0</td>\n",
              "      <td>0</td>\n",
              "      <td>0</td>\n",
              "    </tr>\n",
              "  </tbody>\n",
              "</table>\n",
              "<p>5 rows × 38 columns</p>\n",
              "</div>\n",
              "      <button class=\"colab-df-convert\" onclick=\"convertToInteractive('df-ec99a46c-021d-4e28-8663-fc265516b29d')\"\n",
              "              title=\"Convert this dataframe to an interactive table.\"\n",
              "              style=\"display:none;\">\n",
              "        \n",
              "  <svg xmlns=\"http://www.w3.org/2000/svg\" height=\"24px\"viewBox=\"0 0 24 24\"\n",
              "       width=\"24px\">\n",
              "    <path d=\"M0 0h24v24H0V0z\" fill=\"none\"/>\n",
              "    <path d=\"M18.56 5.44l.94 2.06.94-2.06 2.06-.94-2.06-.94-.94-2.06-.94 2.06-2.06.94zm-11 1L8.5 8.5l.94-2.06 2.06-.94-2.06-.94L8.5 2.5l-.94 2.06-2.06.94zm10 10l.94 2.06.94-2.06 2.06-.94-2.06-.94-.94-2.06-.94 2.06-2.06.94z\"/><path d=\"M17.41 7.96l-1.37-1.37c-.4-.4-.92-.59-1.43-.59-.52 0-1.04.2-1.43.59L10.3 9.45l-7.72 7.72c-.78.78-.78 2.05 0 2.83L4 21.41c.39.39.9.59 1.41.59.51 0 1.02-.2 1.41-.59l7.78-7.78 2.81-2.81c.8-.78.8-2.07 0-2.86zM5.41 20L4 18.59l7.72-7.72 1.47 1.35L5.41 20z\"/>\n",
              "  </svg>\n",
              "      </button>\n",
              "      \n",
              "  <style>\n",
              "    .colab-df-container {\n",
              "      display:flex;\n",
              "      flex-wrap:wrap;\n",
              "      gap: 12px;\n",
              "    }\n",
              "\n",
              "    .colab-df-convert {\n",
              "      background-color: #E8F0FE;\n",
              "      border: none;\n",
              "      border-radius: 50%;\n",
              "      cursor: pointer;\n",
              "      display: none;\n",
              "      fill: #1967D2;\n",
              "      height: 32px;\n",
              "      padding: 0 0 0 0;\n",
              "      width: 32px;\n",
              "    }\n",
              "\n",
              "    .colab-df-convert:hover {\n",
              "      background-color: #E2EBFA;\n",
              "      box-shadow: 0px 1px 2px rgba(60, 64, 67, 0.3), 0px 1px 3px 1px rgba(60, 64, 67, 0.15);\n",
              "      fill: #174EA6;\n",
              "    }\n",
              "\n",
              "    [theme=dark] .colab-df-convert {\n",
              "      background-color: #3B4455;\n",
              "      fill: #D2E3FC;\n",
              "    }\n",
              "\n",
              "    [theme=dark] .colab-df-convert:hover {\n",
              "      background-color: #434B5C;\n",
              "      box-shadow: 0px 1px 3px 1px rgba(0, 0, 0, 0.15);\n",
              "      filter: drop-shadow(0px 1px 2px rgba(0, 0, 0, 0.3));\n",
              "      fill: #FFFFFF;\n",
              "    }\n",
              "  </style>\n",
              "\n",
              "      <script>\n",
              "        const buttonEl =\n",
              "          document.querySelector('#df-ec99a46c-021d-4e28-8663-fc265516b29d button.colab-df-convert');\n",
              "        buttonEl.style.display =\n",
              "          google.colab.kernel.accessAllowed ? 'block' : 'none';\n",
              "\n",
              "        async function convertToInteractive(key) {\n",
              "          const element = document.querySelector('#df-ec99a46c-021d-4e28-8663-fc265516b29d');\n",
              "          const dataTable =\n",
              "            await google.colab.kernel.invokeFunction('convertToInteractive',\n",
              "                                                     [key], {});\n",
              "          if (!dataTable) return;\n",
              "\n",
              "          const docLinkHtml = 'Like what you see? Visit the ' +\n",
              "            '<a target=\"_blank\" href=https://colab.research.google.com/notebooks/data_table.ipynb>data table notebook</a>'\n",
              "            + ' to learn more about interactive tables.';\n",
              "          element.innerHTML = '';\n",
              "          dataTable['output_type'] = 'display_data';\n",
              "          await google.colab.output.renderOutput(dataTable, element);\n",
              "          const docLink = document.createElement('div');\n",
              "          docLink.innerHTML = docLinkHtml;\n",
              "          element.appendChild(docLink);\n",
              "        }\n",
              "      </script>\n",
              "    </div>\n",
              "  </div>\n",
              "  "
            ]
          },
          "metadata": {},
          "execution_count": 8
        }
      ],
      "source": [
        "#Splitting the training data and checking the first few rows of train data\n",
        "train = encoded_df.loc[encoded_df.flag == 'train']\n",
        "train.head()"
      ]
    },
    {
      "cell_type": "code",
      "execution_count": 9,
      "id": "21427cce",
      "metadata": {
        "colab": {
          "base_uri": "https://localhost:8080/",
          "height": 314
        },
        "id": "21427cce",
        "outputId": "56500391-dd3b-4741-ca08-8cb5ae6e7dee"
      },
      "outputs": [
        {
          "output_type": "execute_result",
          "data": {
            "text/plain": [
              "       flag  y  workclass_bin_a. no income  workclass_bin_b. income  \\\n",
              "32561  test  0                           0                        1   \n",
              "32562  test  0                           0                        1   \n",
              "32563  test  1                           0                        1   \n",
              "32564  test  1                           0                        1   \n",
              "32565  test  0                           1                        0   \n",
              "\n",
              "       education_num_bin_a. 0-8  education_num_bin_b. 9-12  \\\n",
              "32561                         1                          0   \n",
              "32562                         0                          1   \n",
              "32563                         0                          1   \n",
              "32564                         0                          1   \n",
              "32565                         0                          1   \n",
              "\n",
              "       education_num_bin_c. 13  education_num_bin_d. 14  \\\n",
              "32561                        0                        0   \n",
              "32562                        0                        0   \n",
              "32563                        0                        0   \n",
              "32564                        0                        0   \n",
              "32565                        0                        0   \n",
              "\n",
              "       education_num_bin_e. 15+  education_bin_a. Low  ...  \\\n",
              "32561                         0                     1  ...   \n",
              "32562                         0                     0  ...   \n",
              "32563                         0                     0  ...   \n",
              "32564                         0                     0  ...   \n",
              "32565                         0                     0  ...   \n",
              "\n",
              "       occupation_bin_a. Low  occupation_bin_b. Mid - Low  \\\n",
              "32561                      0                            1   \n",
              "32562                      0                            1   \n",
              "32563                      0                            0   \n",
              "32564                      0                            1   \n",
              "32565                      0                            1   \n",
              "\n",
              "       occupation_bin_c. Mid - Mid  occupation_bin_d. Mid - High  \\\n",
              "32561                            0                             0   \n",
              "32562                            0                             0   \n",
              "32563                            0                             1   \n",
              "32564                            0                             0   \n",
              "32565                            0                             0   \n",
              "\n",
              "       occupation_bin_e. High  hours_per_week_bin_a. 0-30  \\\n",
              "32561                       0                           0   \n",
              "32562                       0                           0   \n",
              "32563                       0                           0   \n",
              "32564                       0                           0   \n",
              "32565                       0                           1   \n",
              "\n",
              "       hours_per_week_bin_b. 31-40  hours_per_week_bin_c. 71-100  \\\n",
              "32561                            1                             0   \n",
              "32562                            0                             0   \n",
              "32563                            1                             0   \n",
              "32564                            1                             0   \n",
              "32565                            0                             0   \n",
              "\n",
              "       hours_per_week_bin_d. 41-50 & 61-70  hours_per_week_bin_e. 51-60  \n",
              "32561                                    0                            0  \n",
              "32562                                    1                            0  \n",
              "32563                                    0                            0  \n",
              "32564                                    0                            0  \n",
              "32565                                    0                            0  \n",
              "\n",
              "[5 rows x 38 columns]"
            ],
            "text/html": [
              "\n",
              "  <div id=\"df-ac6069a4-06c7-473e-bc26-e5ffc6d2b612\">\n",
              "    <div class=\"colab-df-container\">\n",
              "      <div>\n",
              "<style scoped>\n",
              "    .dataframe tbody tr th:only-of-type {\n",
              "        vertical-align: middle;\n",
              "    }\n",
              "\n",
              "    .dataframe tbody tr th {\n",
              "        vertical-align: top;\n",
              "    }\n",
              "\n",
              "    .dataframe thead th {\n",
              "        text-align: right;\n",
              "    }\n",
              "</style>\n",
              "<table border=\"1\" class=\"dataframe\">\n",
              "  <thead>\n",
              "    <tr style=\"text-align: right;\">\n",
              "      <th></th>\n",
              "      <th>flag</th>\n",
              "      <th>y</th>\n",
              "      <th>workclass_bin_a. no income</th>\n",
              "      <th>workclass_bin_b. income</th>\n",
              "      <th>education_num_bin_a. 0-8</th>\n",
              "      <th>education_num_bin_b. 9-12</th>\n",
              "      <th>education_num_bin_c. 13</th>\n",
              "      <th>education_num_bin_d. 14</th>\n",
              "      <th>education_num_bin_e. 15+</th>\n",
              "      <th>education_bin_a. Low</th>\n",
              "      <th>...</th>\n",
              "      <th>occupation_bin_a. Low</th>\n",
              "      <th>occupation_bin_b. Mid - Low</th>\n",
              "      <th>occupation_bin_c. Mid - Mid</th>\n",
              "      <th>occupation_bin_d. Mid - High</th>\n",
              "      <th>occupation_bin_e. High</th>\n",
              "      <th>hours_per_week_bin_a. 0-30</th>\n",
              "      <th>hours_per_week_bin_b. 31-40</th>\n",
              "      <th>hours_per_week_bin_c. 71-100</th>\n",
              "      <th>hours_per_week_bin_d. 41-50 &amp; 61-70</th>\n",
              "      <th>hours_per_week_bin_e. 51-60</th>\n",
              "    </tr>\n",
              "  </thead>\n",
              "  <tbody>\n",
              "    <tr>\n",
              "      <th>32561</th>\n",
              "      <td>test</td>\n",
              "      <td>0</td>\n",
              "      <td>0</td>\n",
              "      <td>1</td>\n",
              "      <td>1</td>\n",
              "      <td>0</td>\n",
              "      <td>0</td>\n",
              "      <td>0</td>\n",
              "      <td>0</td>\n",
              "      <td>1</td>\n",
              "      <td>...</td>\n",
              "      <td>0</td>\n",
              "      <td>1</td>\n",
              "      <td>0</td>\n",
              "      <td>0</td>\n",
              "      <td>0</td>\n",
              "      <td>0</td>\n",
              "      <td>1</td>\n",
              "      <td>0</td>\n",
              "      <td>0</td>\n",
              "      <td>0</td>\n",
              "    </tr>\n",
              "    <tr>\n",
              "      <th>32562</th>\n",
              "      <td>test</td>\n",
              "      <td>0</td>\n",
              "      <td>0</td>\n",
              "      <td>1</td>\n",
              "      <td>0</td>\n",
              "      <td>1</td>\n",
              "      <td>0</td>\n",
              "      <td>0</td>\n",
              "      <td>0</td>\n",
              "      <td>0</td>\n",
              "      <td>...</td>\n",
              "      <td>0</td>\n",
              "      <td>1</td>\n",
              "      <td>0</td>\n",
              "      <td>0</td>\n",
              "      <td>0</td>\n",
              "      <td>0</td>\n",
              "      <td>0</td>\n",
              "      <td>0</td>\n",
              "      <td>1</td>\n",
              "      <td>0</td>\n",
              "    </tr>\n",
              "    <tr>\n",
              "      <th>32563</th>\n",
              "      <td>test</td>\n",
              "      <td>1</td>\n",
              "      <td>0</td>\n",
              "      <td>1</td>\n",
              "      <td>0</td>\n",
              "      <td>1</td>\n",
              "      <td>0</td>\n",
              "      <td>0</td>\n",
              "      <td>0</td>\n",
              "      <td>0</td>\n",
              "      <td>...</td>\n",
              "      <td>0</td>\n",
              "      <td>0</td>\n",
              "      <td>0</td>\n",
              "      <td>1</td>\n",
              "      <td>0</td>\n",
              "      <td>0</td>\n",
              "      <td>1</td>\n",
              "      <td>0</td>\n",
              "      <td>0</td>\n",
              "      <td>0</td>\n",
              "    </tr>\n",
              "    <tr>\n",
              "      <th>32564</th>\n",
              "      <td>test</td>\n",
              "      <td>1</td>\n",
              "      <td>0</td>\n",
              "      <td>1</td>\n",
              "      <td>0</td>\n",
              "      <td>1</td>\n",
              "      <td>0</td>\n",
              "      <td>0</td>\n",
              "      <td>0</td>\n",
              "      <td>0</td>\n",
              "      <td>...</td>\n",
              "      <td>0</td>\n",
              "      <td>1</td>\n",
              "      <td>0</td>\n",
              "      <td>0</td>\n",
              "      <td>0</td>\n",
              "      <td>0</td>\n",
              "      <td>1</td>\n",
              "      <td>0</td>\n",
              "      <td>0</td>\n",
              "      <td>0</td>\n",
              "    </tr>\n",
              "    <tr>\n",
              "      <th>32565</th>\n",
              "      <td>test</td>\n",
              "      <td>0</td>\n",
              "      <td>1</td>\n",
              "      <td>0</td>\n",
              "      <td>0</td>\n",
              "      <td>1</td>\n",
              "      <td>0</td>\n",
              "      <td>0</td>\n",
              "      <td>0</td>\n",
              "      <td>0</td>\n",
              "      <td>...</td>\n",
              "      <td>0</td>\n",
              "      <td>1</td>\n",
              "      <td>0</td>\n",
              "      <td>0</td>\n",
              "      <td>0</td>\n",
              "      <td>1</td>\n",
              "      <td>0</td>\n",
              "      <td>0</td>\n",
              "      <td>0</td>\n",
              "      <td>0</td>\n",
              "    </tr>\n",
              "  </tbody>\n",
              "</table>\n",
              "<p>5 rows × 38 columns</p>\n",
              "</div>\n",
              "      <button class=\"colab-df-convert\" onclick=\"convertToInteractive('df-ac6069a4-06c7-473e-bc26-e5ffc6d2b612')\"\n",
              "              title=\"Convert this dataframe to an interactive table.\"\n",
              "              style=\"display:none;\">\n",
              "        \n",
              "  <svg xmlns=\"http://www.w3.org/2000/svg\" height=\"24px\"viewBox=\"0 0 24 24\"\n",
              "       width=\"24px\">\n",
              "    <path d=\"M0 0h24v24H0V0z\" fill=\"none\"/>\n",
              "    <path d=\"M18.56 5.44l.94 2.06.94-2.06 2.06-.94-2.06-.94-.94-2.06-.94 2.06-2.06.94zm-11 1L8.5 8.5l.94-2.06 2.06-.94-2.06-.94L8.5 2.5l-.94 2.06-2.06.94zm10 10l.94 2.06.94-2.06 2.06-.94-2.06-.94-.94-2.06-.94 2.06-2.06.94z\"/><path d=\"M17.41 7.96l-1.37-1.37c-.4-.4-.92-.59-1.43-.59-.52 0-1.04.2-1.43.59L10.3 9.45l-7.72 7.72c-.78.78-.78 2.05 0 2.83L4 21.41c.39.39.9.59 1.41.59.51 0 1.02-.2 1.41-.59l7.78-7.78 2.81-2.81c.8-.78.8-2.07 0-2.86zM5.41 20L4 18.59l7.72-7.72 1.47 1.35L5.41 20z\"/>\n",
              "  </svg>\n",
              "      </button>\n",
              "      \n",
              "  <style>\n",
              "    .colab-df-container {\n",
              "      display:flex;\n",
              "      flex-wrap:wrap;\n",
              "      gap: 12px;\n",
              "    }\n",
              "\n",
              "    .colab-df-convert {\n",
              "      background-color: #E8F0FE;\n",
              "      border: none;\n",
              "      border-radius: 50%;\n",
              "      cursor: pointer;\n",
              "      display: none;\n",
              "      fill: #1967D2;\n",
              "      height: 32px;\n",
              "      padding: 0 0 0 0;\n",
              "      width: 32px;\n",
              "    }\n",
              "\n",
              "    .colab-df-convert:hover {\n",
              "      background-color: #E2EBFA;\n",
              "      box-shadow: 0px 1px 2px rgba(60, 64, 67, 0.3), 0px 1px 3px 1px rgba(60, 64, 67, 0.15);\n",
              "      fill: #174EA6;\n",
              "    }\n",
              "\n",
              "    [theme=dark] .colab-df-convert {\n",
              "      background-color: #3B4455;\n",
              "      fill: #D2E3FC;\n",
              "    }\n",
              "\n",
              "    [theme=dark] .colab-df-convert:hover {\n",
              "      background-color: #434B5C;\n",
              "      box-shadow: 0px 1px 3px 1px rgba(0, 0, 0, 0.15);\n",
              "      filter: drop-shadow(0px 1px 2px rgba(0, 0, 0, 0.3));\n",
              "      fill: #FFFFFF;\n",
              "    }\n",
              "  </style>\n",
              "\n",
              "      <script>\n",
              "        const buttonEl =\n",
              "          document.querySelector('#df-ac6069a4-06c7-473e-bc26-e5ffc6d2b612 button.colab-df-convert');\n",
              "        buttonEl.style.display =\n",
              "          google.colab.kernel.accessAllowed ? 'block' : 'none';\n",
              "\n",
              "        async function convertToInteractive(key) {\n",
              "          const element = document.querySelector('#df-ac6069a4-06c7-473e-bc26-e5ffc6d2b612');\n",
              "          const dataTable =\n",
              "            await google.colab.kernel.invokeFunction('convertToInteractive',\n",
              "                                                     [key], {});\n",
              "          if (!dataTable) return;\n",
              "\n",
              "          const docLinkHtml = 'Like what you see? Visit the ' +\n",
              "            '<a target=\"_blank\" href=https://colab.research.google.com/notebooks/data_table.ipynb>data table notebook</a>'\n",
              "            + ' to learn more about interactive tables.';\n",
              "          element.innerHTML = '';\n",
              "          dataTable['output_type'] = 'display_data';\n",
              "          await google.colab.output.renderOutput(dataTable, element);\n",
              "          const docLink = document.createElement('div');\n",
              "          docLink.innerHTML = docLinkHtml;\n",
              "          element.appendChild(docLink);\n",
              "        }\n",
              "      </script>\n",
              "    </div>\n",
              "  </div>\n",
              "  "
            ]
          },
          "metadata": {},
          "execution_count": 9
        }
      ],
      "source": [
        "#Splitting the tetsing data and checking the first few rows of test data\n",
        "test = encoded_df.loc[encoded_df.flag == 'test']\n",
        "test.head()"
      ]
    },
    {
      "cell_type": "code",
      "execution_count": 10,
      "id": "22c1ba95",
      "metadata": {
        "colab": {
          "base_uri": "https://localhost:8080/"
        },
        "id": "22c1ba95",
        "outputId": "ea1655b9-2410-4fa5-919f-738830f17169"
      },
      "outputs": [
        {
          "output_type": "stream",
          "name": "stderr",
          "text": [
            "/usr/local/lib/python3.8/dist-packages/pandas/core/frame.py:4906: SettingWithCopyWarning: \n",
            "A value is trying to be set on a copy of a slice from a DataFrame\n",
            "\n",
            "See the caveats in the documentation: https://pandas.pydata.org/pandas-docs/stable/user_guide/indexing.html#returning-a-view-versus-a-copy\n",
            "  return super().drop(\n"
          ]
        }
      ],
      "source": [
        "#Removing flag variable since it won't be needed anymore after the data is splitted\n",
        "train.drop(columns='flag', inplace=True)\n",
        "test.drop(columns='flag', inplace=True)"
      ]
    },
    {
      "cell_type": "code",
      "execution_count": 14,
      "id": "563d07b8",
      "metadata": {
        "colab": {
          "base_uri": "https://localhost:8080/",
          "height": 314
        },
        "id": "563d07b8",
        "outputId": "739c0e26-2d45-4dec-d518-1e146b45b95d"
      },
      "outputs": [
        {
          "output_type": "execute_result",
          "data": {
            "text/plain": [
              "   y  workclass_bin_a. no income  workclass_bin_b. income  \\\n",
              "0  0                           0                        1   \n",
              "1  0                           0                        1   \n",
              "2  0                           0                        1   \n",
              "3  0                           0                        1   \n",
              "4  0                           0                        1   \n",
              "\n",
              "   education_num_bin_a. 0-8  education_num_bin_b. 9-12  \\\n",
              "0                         0                          0   \n",
              "1                         0                          0   \n",
              "2                         0                          1   \n",
              "3                         1                          0   \n",
              "4                         0                          0   \n",
              "\n",
              "   education_num_bin_c. 13  education_num_bin_d. 14  education_num_bin_e. 15+  \\\n",
              "0                        1                        0                         0   \n",
              "1                        1                        0                         0   \n",
              "2                        0                        0                         0   \n",
              "3                        0                        0                         0   \n",
              "4                        1                        0                         0   \n",
              "\n",
              "   education_bin_a. Low  education_bin_b. Mid  ...  occupation_bin_a. Low  \\\n",
              "0                     0                     0  ...                      0   \n",
              "1                     0                     0  ...                      0   \n",
              "2                     0                     1  ...                      1   \n",
              "3                     1                     0  ...                      1   \n",
              "4                     0                     0  ...                      0   \n",
              "\n",
              "   occupation_bin_b. Mid - Low  occupation_bin_c. Mid - Mid  \\\n",
              "0                            1                            0   \n",
              "1                            0                            0   \n",
              "2                            0                            0   \n",
              "3                            0                            0   \n",
              "4                            0                            0   \n",
              "\n",
              "   occupation_bin_d. Mid - High  occupation_bin_e. High  \\\n",
              "0                             0                       0   \n",
              "1                             0                       1   \n",
              "2                             0                       0   \n",
              "3                             0                       0   \n",
              "4                             0                       1   \n",
              "\n",
              "   hours_per_week_bin_a. 0-30  hours_per_week_bin_b. 31-40  \\\n",
              "0                           0                            1   \n",
              "1                           1                            0   \n",
              "2                           0                            1   \n",
              "3                           0                            1   \n",
              "4                           0                            1   \n",
              "\n",
              "   hours_per_week_bin_c. 71-100  hours_per_week_bin_d. 41-50 & 61-70  \\\n",
              "0                             0                                    0   \n",
              "1                             0                                    0   \n",
              "2                             0                                    0   \n",
              "3                             0                                    0   \n",
              "4                             0                                    0   \n",
              "\n",
              "   hours_per_week_bin_e. 51-60  \n",
              "0                            0  \n",
              "1                            0  \n",
              "2                            0  \n",
              "3                            0  \n",
              "4                            0  \n",
              "\n",
              "[5 rows x 37 columns]"
            ],
            "text/html": [
              "\n",
              "  <div id=\"df-2800e97b-5a6a-44f3-a5cc-9de76e4d8b7c\">\n",
              "    <div class=\"colab-df-container\">\n",
              "      <div>\n",
              "<style scoped>\n",
              "    .dataframe tbody tr th:only-of-type {\n",
              "        vertical-align: middle;\n",
              "    }\n",
              "\n",
              "    .dataframe tbody tr th {\n",
              "        vertical-align: top;\n",
              "    }\n",
              "\n",
              "    .dataframe thead th {\n",
              "        text-align: right;\n",
              "    }\n",
              "</style>\n",
              "<table border=\"1\" class=\"dataframe\">\n",
              "  <thead>\n",
              "    <tr style=\"text-align: right;\">\n",
              "      <th></th>\n",
              "      <th>y</th>\n",
              "      <th>workclass_bin_a. no income</th>\n",
              "      <th>workclass_bin_b. income</th>\n",
              "      <th>education_num_bin_a. 0-8</th>\n",
              "      <th>education_num_bin_b. 9-12</th>\n",
              "      <th>education_num_bin_c. 13</th>\n",
              "      <th>education_num_bin_d. 14</th>\n",
              "      <th>education_num_bin_e. 15+</th>\n",
              "      <th>education_bin_a. Low</th>\n",
              "      <th>education_bin_b. Mid</th>\n",
              "      <th>...</th>\n",
              "      <th>occupation_bin_a. Low</th>\n",
              "      <th>occupation_bin_b. Mid - Low</th>\n",
              "      <th>occupation_bin_c. Mid - Mid</th>\n",
              "      <th>occupation_bin_d. Mid - High</th>\n",
              "      <th>occupation_bin_e. High</th>\n",
              "      <th>hours_per_week_bin_a. 0-30</th>\n",
              "      <th>hours_per_week_bin_b. 31-40</th>\n",
              "      <th>hours_per_week_bin_c. 71-100</th>\n",
              "      <th>hours_per_week_bin_d. 41-50 &amp; 61-70</th>\n",
              "      <th>hours_per_week_bin_e. 51-60</th>\n",
              "    </tr>\n",
              "  </thead>\n",
              "  <tbody>\n",
              "    <tr>\n",
              "      <th>0</th>\n",
              "      <td>0</td>\n",
              "      <td>0</td>\n",
              "      <td>1</td>\n",
              "      <td>0</td>\n",
              "      <td>0</td>\n",
              "      <td>1</td>\n",
              "      <td>0</td>\n",
              "      <td>0</td>\n",
              "      <td>0</td>\n",
              "      <td>0</td>\n",
              "      <td>...</td>\n",
              "      <td>0</td>\n",
              "      <td>1</td>\n",
              "      <td>0</td>\n",
              "      <td>0</td>\n",
              "      <td>0</td>\n",
              "      <td>0</td>\n",
              "      <td>1</td>\n",
              "      <td>0</td>\n",
              "      <td>0</td>\n",
              "      <td>0</td>\n",
              "    </tr>\n",
              "    <tr>\n",
              "      <th>1</th>\n",
              "      <td>0</td>\n",
              "      <td>0</td>\n",
              "      <td>1</td>\n",
              "      <td>0</td>\n",
              "      <td>0</td>\n",
              "      <td>1</td>\n",
              "      <td>0</td>\n",
              "      <td>0</td>\n",
              "      <td>0</td>\n",
              "      <td>0</td>\n",
              "      <td>...</td>\n",
              "      <td>0</td>\n",
              "      <td>0</td>\n",
              "      <td>0</td>\n",
              "      <td>0</td>\n",
              "      <td>1</td>\n",
              "      <td>1</td>\n",
              "      <td>0</td>\n",
              "      <td>0</td>\n",
              "      <td>0</td>\n",
              "      <td>0</td>\n",
              "    </tr>\n",
              "    <tr>\n",
              "      <th>2</th>\n",
              "      <td>0</td>\n",
              "      <td>0</td>\n",
              "      <td>1</td>\n",
              "      <td>0</td>\n",
              "      <td>1</td>\n",
              "      <td>0</td>\n",
              "      <td>0</td>\n",
              "      <td>0</td>\n",
              "      <td>0</td>\n",
              "      <td>1</td>\n",
              "      <td>...</td>\n",
              "      <td>1</td>\n",
              "      <td>0</td>\n",
              "      <td>0</td>\n",
              "      <td>0</td>\n",
              "      <td>0</td>\n",
              "      <td>0</td>\n",
              "      <td>1</td>\n",
              "      <td>0</td>\n",
              "      <td>0</td>\n",
              "      <td>0</td>\n",
              "    </tr>\n",
              "    <tr>\n",
              "      <th>3</th>\n",
              "      <td>0</td>\n",
              "      <td>0</td>\n",
              "      <td>1</td>\n",
              "      <td>1</td>\n",
              "      <td>0</td>\n",
              "      <td>0</td>\n",
              "      <td>0</td>\n",
              "      <td>0</td>\n",
              "      <td>1</td>\n",
              "      <td>0</td>\n",
              "      <td>...</td>\n",
              "      <td>1</td>\n",
              "      <td>0</td>\n",
              "      <td>0</td>\n",
              "      <td>0</td>\n",
              "      <td>0</td>\n",
              "      <td>0</td>\n",
              "      <td>1</td>\n",
              "      <td>0</td>\n",
              "      <td>0</td>\n",
              "      <td>0</td>\n",
              "    </tr>\n",
              "    <tr>\n",
              "      <th>4</th>\n",
              "      <td>0</td>\n",
              "      <td>0</td>\n",
              "      <td>1</td>\n",
              "      <td>0</td>\n",
              "      <td>0</td>\n",
              "      <td>1</td>\n",
              "      <td>0</td>\n",
              "      <td>0</td>\n",
              "      <td>0</td>\n",
              "      <td>0</td>\n",
              "      <td>...</td>\n",
              "      <td>0</td>\n",
              "      <td>0</td>\n",
              "      <td>0</td>\n",
              "      <td>0</td>\n",
              "      <td>1</td>\n",
              "      <td>0</td>\n",
              "      <td>1</td>\n",
              "      <td>0</td>\n",
              "      <td>0</td>\n",
              "      <td>0</td>\n",
              "    </tr>\n",
              "  </tbody>\n",
              "</table>\n",
              "<p>5 rows × 37 columns</p>\n",
              "</div>\n",
              "      <button class=\"colab-df-convert\" onclick=\"convertToInteractive('df-2800e97b-5a6a-44f3-a5cc-9de76e4d8b7c')\"\n",
              "              title=\"Convert this dataframe to an interactive table.\"\n",
              "              style=\"display:none;\">\n",
              "        \n",
              "  <svg xmlns=\"http://www.w3.org/2000/svg\" height=\"24px\"viewBox=\"0 0 24 24\"\n",
              "       width=\"24px\">\n",
              "    <path d=\"M0 0h24v24H0V0z\" fill=\"none\"/>\n",
              "    <path d=\"M18.56 5.44l.94 2.06.94-2.06 2.06-.94-2.06-.94-.94-2.06-.94 2.06-2.06.94zm-11 1L8.5 8.5l.94-2.06 2.06-.94-2.06-.94L8.5 2.5l-.94 2.06-2.06.94zm10 10l.94 2.06.94-2.06 2.06-.94-2.06-.94-.94-2.06-.94 2.06-2.06.94z\"/><path d=\"M17.41 7.96l-1.37-1.37c-.4-.4-.92-.59-1.43-.59-.52 0-1.04.2-1.43.59L10.3 9.45l-7.72 7.72c-.78.78-.78 2.05 0 2.83L4 21.41c.39.39.9.59 1.41.59.51 0 1.02-.2 1.41-.59l7.78-7.78 2.81-2.81c.8-.78.8-2.07 0-2.86zM5.41 20L4 18.59l7.72-7.72 1.47 1.35L5.41 20z\"/>\n",
              "  </svg>\n",
              "      </button>\n",
              "      \n",
              "  <style>\n",
              "    .colab-df-container {\n",
              "      display:flex;\n",
              "      flex-wrap:wrap;\n",
              "      gap: 12px;\n",
              "    }\n",
              "\n",
              "    .colab-df-convert {\n",
              "      background-color: #E8F0FE;\n",
              "      border: none;\n",
              "      border-radius: 50%;\n",
              "      cursor: pointer;\n",
              "      display: none;\n",
              "      fill: #1967D2;\n",
              "      height: 32px;\n",
              "      padding: 0 0 0 0;\n",
              "      width: 32px;\n",
              "    }\n",
              "\n",
              "    .colab-df-convert:hover {\n",
              "      background-color: #E2EBFA;\n",
              "      box-shadow: 0px 1px 2px rgba(60, 64, 67, 0.3), 0px 1px 3px 1px rgba(60, 64, 67, 0.15);\n",
              "      fill: #174EA6;\n",
              "    }\n",
              "\n",
              "    [theme=dark] .colab-df-convert {\n",
              "      background-color: #3B4455;\n",
              "      fill: #D2E3FC;\n",
              "    }\n",
              "\n",
              "    [theme=dark] .colab-df-convert:hover {\n",
              "      background-color: #434B5C;\n",
              "      box-shadow: 0px 1px 3px 1px rgba(0, 0, 0, 0.15);\n",
              "      filter: drop-shadow(0px 1px 2px rgba(0, 0, 0, 0.3));\n",
              "      fill: #FFFFFF;\n",
              "    }\n",
              "  </style>\n",
              "\n",
              "      <script>\n",
              "        const buttonEl =\n",
              "          document.querySelector('#df-2800e97b-5a6a-44f3-a5cc-9de76e4d8b7c button.colab-df-convert');\n",
              "        buttonEl.style.display =\n",
              "          google.colab.kernel.accessAllowed ? 'block' : 'none';\n",
              "\n",
              "        async function convertToInteractive(key) {\n",
              "          const element = document.querySelector('#df-2800e97b-5a6a-44f3-a5cc-9de76e4d8b7c');\n",
              "          const dataTable =\n",
              "            await google.colab.kernel.invokeFunction('convertToInteractive',\n",
              "                                                     [key], {});\n",
              "          if (!dataTable) return;\n",
              "\n",
              "          const docLinkHtml = 'Like what you see? Visit the ' +\n",
              "            '<a target=\"_blank\" href=https://colab.research.google.com/notebooks/data_table.ipynb>data table notebook</a>'\n",
              "            + ' to learn more about interactive tables.';\n",
              "          element.innerHTML = '';\n",
              "          dataTable['output_type'] = 'display_data';\n",
              "          await google.colab.output.renderOutput(dataTable, element);\n",
              "          const docLink = document.createElement('div');\n",
              "          docLink.innerHTML = docLinkHtml;\n",
              "          element.appendChild(docLink);\n",
              "        }\n",
              "      </script>\n",
              "    </div>\n",
              "  </div>\n",
              "  "
            ]
          },
          "metadata": {},
          "execution_count": 14
        }
      ],
      "source": [
        "#Checking if flag column was removed from train data\n",
        "train.head()"
      ]
    },
    {
      "cell_type": "code",
      "execution_count": 15,
      "id": "208dde41",
      "metadata": {
        "colab": {
          "base_uri": "https://localhost:8080/",
          "height": 314
        },
        "id": "208dde41",
        "outputId": "c9b96dbe-efbe-4e24-aefe-cb7d1459d03b"
      },
      "outputs": [
        {
          "output_type": "execute_result",
          "data": {
            "text/plain": [
              "       y  workclass_bin_a. no income  workclass_bin_b. income  \\\n",
              "32561  0                           0                        1   \n",
              "32562  0                           0                        1   \n",
              "32563  1                           0                        1   \n",
              "32564  1                           0                        1   \n",
              "32565  0                           1                        0   \n",
              "\n",
              "       education_num_bin_a. 0-8  education_num_bin_b. 9-12  \\\n",
              "32561                         1                          0   \n",
              "32562                         0                          1   \n",
              "32563                         0                          1   \n",
              "32564                         0                          1   \n",
              "32565                         0                          1   \n",
              "\n",
              "       education_num_bin_c. 13  education_num_bin_d. 14  \\\n",
              "32561                        0                        0   \n",
              "32562                        0                        0   \n",
              "32563                        0                        0   \n",
              "32564                        0                        0   \n",
              "32565                        0                        0   \n",
              "\n",
              "       education_num_bin_e. 15+  education_bin_a. Low  education_bin_b. Mid  \\\n",
              "32561                         0                     1                     0   \n",
              "32562                         0                     0                     1   \n",
              "32563                         0                     0                     1   \n",
              "32564                         0                     0                     1   \n",
              "32565                         0                     0                     1   \n",
              "\n",
              "       ...  occupation_bin_a. Low  occupation_bin_b. Mid - Low  \\\n",
              "32561  ...                      0                            1   \n",
              "32562  ...                      0                            1   \n",
              "32563  ...                      0                            0   \n",
              "32564  ...                      0                            1   \n",
              "32565  ...                      0                            1   \n",
              "\n",
              "       occupation_bin_c. Mid - Mid  occupation_bin_d. Mid - High  \\\n",
              "32561                            0                             0   \n",
              "32562                            0                             0   \n",
              "32563                            0                             1   \n",
              "32564                            0                             0   \n",
              "32565                            0                             0   \n",
              "\n",
              "       occupation_bin_e. High  hours_per_week_bin_a. 0-30  \\\n",
              "32561                       0                           0   \n",
              "32562                       0                           0   \n",
              "32563                       0                           0   \n",
              "32564                       0                           0   \n",
              "32565                       0                           1   \n",
              "\n",
              "       hours_per_week_bin_b. 31-40  hours_per_week_bin_c. 71-100  \\\n",
              "32561                            1                             0   \n",
              "32562                            0                             0   \n",
              "32563                            1                             0   \n",
              "32564                            1                             0   \n",
              "32565                            0                             0   \n",
              "\n",
              "       hours_per_week_bin_d. 41-50 & 61-70  hours_per_week_bin_e. 51-60  \n",
              "32561                                    0                            0  \n",
              "32562                                    1                            0  \n",
              "32563                                    0                            0  \n",
              "32564                                    0                            0  \n",
              "32565                                    0                            0  \n",
              "\n",
              "[5 rows x 37 columns]"
            ],
            "text/html": [
              "\n",
              "  <div id=\"df-3c2eb6fc-abe1-43a2-ab41-8872f61aae20\">\n",
              "    <div class=\"colab-df-container\">\n",
              "      <div>\n",
              "<style scoped>\n",
              "    .dataframe tbody tr th:only-of-type {\n",
              "        vertical-align: middle;\n",
              "    }\n",
              "\n",
              "    .dataframe tbody tr th {\n",
              "        vertical-align: top;\n",
              "    }\n",
              "\n",
              "    .dataframe thead th {\n",
              "        text-align: right;\n",
              "    }\n",
              "</style>\n",
              "<table border=\"1\" class=\"dataframe\">\n",
              "  <thead>\n",
              "    <tr style=\"text-align: right;\">\n",
              "      <th></th>\n",
              "      <th>y</th>\n",
              "      <th>workclass_bin_a. no income</th>\n",
              "      <th>workclass_bin_b. income</th>\n",
              "      <th>education_num_bin_a. 0-8</th>\n",
              "      <th>education_num_bin_b. 9-12</th>\n",
              "      <th>education_num_bin_c. 13</th>\n",
              "      <th>education_num_bin_d. 14</th>\n",
              "      <th>education_num_bin_e. 15+</th>\n",
              "      <th>education_bin_a. Low</th>\n",
              "      <th>education_bin_b. Mid</th>\n",
              "      <th>...</th>\n",
              "      <th>occupation_bin_a. Low</th>\n",
              "      <th>occupation_bin_b. Mid - Low</th>\n",
              "      <th>occupation_bin_c. Mid - Mid</th>\n",
              "      <th>occupation_bin_d. Mid - High</th>\n",
              "      <th>occupation_bin_e. High</th>\n",
              "      <th>hours_per_week_bin_a. 0-30</th>\n",
              "      <th>hours_per_week_bin_b. 31-40</th>\n",
              "      <th>hours_per_week_bin_c. 71-100</th>\n",
              "      <th>hours_per_week_bin_d. 41-50 &amp; 61-70</th>\n",
              "      <th>hours_per_week_bin_e. 51-60</th>\n",
              "    </tr>\n",
              "  </thead>\n",
              "  <tbody>\n",
              "    <tr>\n",
              "      <th>32561</th>\n",
              "      <td>0</td>\n",
              "      <td>0</td>\n",
              "      <td>1</td>\n",
              "      <td>1</td>\n",
              "      <td>0</td>\n",
              "      <td>0</td>\n",
              "      <td>0</td>\n",
              "      <td>0</td>\n",
              "      <td>1</td>\n",
              "      <td>0</td>\n",
              "      <td>...</td>\n",
              "      <td>0</td>\n",
              "      <td>1</td>\n",
              "      <td>0</td>\n",
              "      <td>0</td>\n",
              "      <td>0</td>\n",
              "      <td>0</td>\n",
              "      <td>1</td>\n",
              "      <td>0</td>\n",
              "      <td>0</td>\n",
              "      <td>0</td>\n",
              "    </tr>\n",
              "    <tr>\n",
              "      <th>32562</th>\n",
              "      <td>0</td>\n",
              "      <td>0</td>\n",
              "      <td>1</td>\n",
              "      <td>0</td>\n",
              "      <td>1</td>\n",
              "      <td>0</td>\n",
              "      <td>0</td>\n",
              "      <td>0</td>\n",
              "      <td>0</td>\n",
              "      <td>1</td>\n",
              "      <td>...</td>\n",
              "      <td>0</td>\n",
              "      <td>1</td>\n",
              "      <td>0</td>\n",
              "      <td>0</td>\n",
              "      <td>0</td>\n",
              "      <td>0</td>\n",
              "      <td>0</td>\n",
              "      <td>0</td>\n",
              "      <td>1</td>\n",
              "      <td>0</td>\n",
              "    </tr>\n",
              "    <tr>\n",
              "      <th>32563</th>\n",
              "      <td>1</td>\n",
              "      <td>0</td>\n",
              "      <td>1</td>\n",
              "      <td>0</td>\n",
              "      <td>1</td>\n",
              "      <td>0</td>\n",
              "      <td>0</td>\n",
              "      <td>0</td>\n",
              "      <td>0</td>\n",
              "      <td>1</td>\n",
              "      <td>...</td>\n",
              "      <td>0</td>\n",
              "      <td>0</td>\n",
              "      <td>0</td>\n",
              "      <td>1</td>\n",
              "      <td>0</td>\n",
              "      <td>0</td>\n",
              "      <td>1</td>\n",
              "      <td>0</td>\n",
              "      <td>0</td>\n",
              "      <td>0</td>\n",
              "    </tr>\n",
              "    <tr>\n",
              "      <th>32564</th>\n",
              "      <td>1</td>\n",
              "      <td>0</td>\n",
              "      <td>1</td>\n",
              "      <td>0</td>\n",
              "      <td>1</td>\n",
              "      <td>0</td>\n",
              "      <td>0</td>\n",
              "      <td>0</td>\n",
              "      <td>0</td>\n",
              "      <td>1</td>\n",
              "      <td>...</td>\n",
              "      <td>0</td>\n",
              "      <td>1</td>\n",
              "      <td>0</td>\n",
              "      <td>0</td>\n",
              "      <td>0</td>\n",
              "      <td>0</td>\n",
              "      <td>1</td>\n",
              "      <td>0</td>\n",
              "      <td>0</td>\n",
              "      <td>0</td>\n",
              "    </tr>\n",
              "    <tr>\n",
              "      <th>32565</th>\n",
              "      <td>0</td>\n",
              "      <td>1</td>\n",
              "      <td>0</td>\n",
              "      <td>0</td>\n",
              "      <td>1</td>\n",
              "      <td>0</td>\n",
              "      <td>0</td>\n",
              "      <td>0</td>\n",
              "      <td>0</td>\n",
              "      <td>1</td>\n",
              "      <td>...</td>\n",
              "      <td>0</td>\n",
              "      <td>1</td>\n",
              "      <td>0</td>\n",
              "      <td>0</td>\n",
              "      <td>0</td>\n",
              "      <td>1</td>\n",
              "      <td>0</td>\n",
              "      <td>0</td>\n",
              "      <td>0</td>\n",
              "      <td>0</td>\n",
              "    </tr>\n",
              "  </tbody>\n",
              "</table>\n",
              "<p>5 rows × 37 columns</p>\n",
              "</div>\n",
              "      <button class=\"colab-df-convert\" onclick=\"convertToInteractive('df-3c2eb6fc-abe1-43a2-ab41-8872f61aae20')\"\n",
              "              title=\"Convert this dataframe to an interactive table.\"\n",
              "              style=\"display:none;\">\n",
              "        \n",
              "  <svg xmlns=\"http://www.w3.org/2000/svg\" height=\"24px\"viewBox=\"0 0 24 24\"\n",
              "       width=\"24px\">\n",
              "    <path d=\"M0 0h24v24H0V0z\" fill=\"none\"/>\n",
              "    <path d=\"M18.56 5.44l.94 2.06.94-2.06 2.06-.94-2.06-.94-.94-2.06-.94 2.06-2.06.94zm-11 1L8.5 8.5l.94-2.06 2.06-.94-2.06-.94L8.5 2.5l-.94 2.06-2.06.94zm10 10l.94 2.06.94-2.06 2.06-.94-2.06-.94-.94-2.06-.94 2.06-2.06.94z\"/><path d=\"M17.41 7.96l-1.37-1.37c-.4-.4-.92-.59-1.43-.59-.52 0-1.04.2-1.43.59L10.3 9.45l-7.72 7.72c-.78.78-.78 2.05 0 2.83L4 21.41c.39.39.9.59 1.41.59.51 0 1.02-.2 1.41-.59l7.78-7.78 2.81-2.81c.8-.78.8-2.07 0-2.86zM5.41 20L4 18.59l7.72-7.72 1.47 1.35L5.41 20z\"/>\n",
              "  </svg>\n",
              "      </button>\n",
              "      \n",
              "  <style>\n",
              "    .colab-df-container {\n",
              "      display:flex;\n",
              "      flex-wrap:wrap;\n",
              "      gap: 12px;\n",
              "    }\n",
              "\n",
              "    .colab-df-convert {\n",
              "      background-color: #E8F0FE;\n",
              "      border: none;\n",
              "      border-radius: 50%;\n",
              "      cursor: pointer;\n",
              "      display: none;\n",
              "      fill: #1967D2;\n",
              "      height: 32px;\n",
              "      padding: 0 0 0 0;\n",
              "      width: 32px;\n",
              "    }\n",
              "\n",
              "    .colab-df-convert:hover {\n",
              "      background-color: #E2EBFA;\n",
              "      box-shadow: 0px 1px 2px rgba(60, 64, 67, 0.3), 0px 1px 3px 1px rgba(60, 64, 67, 0.15);\n",
              "      fill: #174EA6;\n",
              "    }\n",
              "\n",
              "    [theme=dark] .colab-df-convert {\n",
              "      background-color: #3B4455;\n",
              "      fill: #D2E3FC;\n",
              "    }\n",
              "\n",
              "    [theme=dark] .colab-df-convert:hover {\n",
              "      background-color: #434B5C;\n",
              "      box-shadow: 0px 1px 3px 1px rgba(0, 0, 0, 0.15);\n",
              "      filter: drop-shadow(0px 1px 2px rgba(0, 0, 0, 0.3));\n",
              "      fill: #FFFFFF;\n",
              "    }\n",
              "  </style>\n",
              "\n",
              "      <script>\n",
              "        const buttonEl =\n",
              "          document.querySelector('#df-3c2eb6fc-abe1-43a2-ab41-8872f61aae20 button.colab-df-convert');\n",
              "        buttonEl.style.display =\n",
              "          google.colab.kernel.accessAllowed ? 'block' : 'none';\n",
              "\n",
              "        async function convertToInteractive(key) {\n",
              "          const element = document.querySelector('#df-3c2eb6fc-abe1-43a2-ab41-8872f61aae20');\n",
              "          const dataTable =\n",
              "            await google.colab.kernel.invokeFunction('convertToInteractive',\n",
              "                                                     [key], {});\n",
              "          if (!dataTable) return;\n",
              "\n",
              "          const docLinkHtml = 'Like what you see? Visit the ' +\n",
              "            '<a target=\"_blank\" href=https://colab.research.google.com/notebooks/data_table.ipynb>data table notebook</a>'\n",
              "            + ' to learn more about interactive tables.';\n",
              "          element.innerHTML = '';\n",
              "          dataTable['output_type'] = 'display_data';\n",
              "          await google.colab.output.renderOutput(dataTable, element);\n",
              "          const docLink = document.createElement('div');\n",
              "          docLink.innerHTML = docLinkHtml;\n",
              "          element.appendChild(docLink);\n",
              "        }\n",
              "      </script>\n",
              "    </div>\n",
              "  </div>\n",
              "  "
            ]
          },
          "metadata": {},
          "execution_count": 15
        }
      ],
      "source": [
        "#Checking if flag column was removed from test data\n",
        "test.head()"
      ]
    },
    {
      "cell_type": "code",
      "execution_count": 16,
      "id": "2e9e9c1b",
      "metadata": {
        "id": "2e9e9c1b"
      },
      "outputs": [],
      "source": [
        "#Extracting the target variable \"y\" from train data and assigning it to new variable \"y_train\"\n",
        "y_train = train['y']\n",
        "#Extracting all the other independent variables from train data and assigning them to a new variable \"x_train\"\n",
        "x_train = train.drop('y', axis=1)"
      ]
    },
    {
      "cell_type": "code",
      "execution_count": 17,
      "id": "222fc2a6",
      "metadata": {
        "id": "222fc2a6"
      },
      "outputs": [],
      "source": [
        "#Extracting the target variable \"y\" from test data and assigning it to new variable \"y_test\"\n",
        "y_test = test['y']\n",
        "#Extracting all the other independent variables from test data and assigning them to a new variable \"x_train\"\n",
        "x_test = test.drop('y', axis=1)"
      ]
    },
    {
      "cell_type": "markdown",
      "id": "101f5c1a",
      "metadata": {
        "id": "101f5c1a"
      },
      "source": [
        "## 2. Building a Random Forest Model"
      ]
    },
    {
      "cell_type": "markdown",
      "id": "656fb441",
      "metadata": {
        "id": "656fb441"
      },
      "source": [
        "**Model 1 - Randon Forest**"
      ]
    },
    {
      "cell_type": "markdown",
      "id": "e3bbb82e",
      "metadata": {
        "id": "e3bbb82e"
      },
      "source": [
        "**Accuracy vs. n_estimators**"
      ]
    },
    {
      "cell_type": "code",
      "execution_count": 18,
      "id": "6f794beb",
      "metadata": {
        "colab": {
          "base_uri": "https://localhost:8080/",
          "height": 295
        },
        "id": "6f794beb",
        "outputId": "57cebad0-ceb0-4563-c3d7-169e2fafe11d"
      },
      "outputs": [
        {
          "output_type": "display_data",
          "data": {
            "text/plain": [
              "<Figure size 432x288 with 1 Axes>"
            ],
            "image/png": "[encoded data removed]"
          },
          "metadata": {
            "needs_background": "light"
          }
        }
      ],
      "source": [
        "#Creating a loop to train and test multiple Random Forest classifiers with different number of n_estimators\n",
        "#and calculating the accuracy score for each one. Then, plotting the results in a line chart.\n",
        "results = []\n",
        "n_estimator = [50,100,150,200,250,300,350,400,450,500]\n",
        "\n",
        "for n in n_estimator:\n",
        "  RF_model = RandomForestClassifier(n_estimators=n, random_state=101)\n",
        "  RF_model.fit(x_train,y_train)\n",
        "  y_pred = RF_model.predict(x_test)\n",
        "  accuracy = np.mean(y_test==y_pred)\n",
        "  results.append(accuracy)\n",
        "\n",
        "pd.Series(results, n_estimator).plot(color='red', marker='o')\n",
        "plt.xlabel('Number of Estimators')\n",
        "plt.ylabel('Accuracy Score')\n",
        "plt.title('Accuracy Score vs. Number of Estimators')\n",
        "plt.show()"
      ]
    },
    {
      "cell_type": "markdown",
      "id": "5267028a",
      "metadata": {
        "id": "5267028a"
      },
      "source": [
        "**AUC vs. n_estimators**"
      ]
    },
    {
      "cell_type": "code",
      "execution_count": 25,
      "id": "d6b7e405",
      "metadata": {
        "colab": {
          "base_uri": "https://localhost:8080/",
          "height": 295
        },
        "id": "d6b7e405",
        "outputId": "b64393ff-f9db-4bf3-aca5-df80e18868da"
      },
      "outputs": [
        {
          "output_type": "display_data",
          "data": {
            "text/plain": [
              "<Figure size 432x288 with 1 Axes>"
            ],
            "image/png": "[encoded data removed]"
          },
          "metadata": {
            "needs_background": "light"
          }
        }
      ],
      "source": [
        "#Creating a loop to train and test multiple Random Forest classifiers with different number of n_estimators\n",
        "#and calculating the AUC score for each one. Then, plotting the results in a line chart.\n",
        "results = []\n",
        "n_estimators = [50, 100, 150, 200, 250, 300, 350, 400, 450, 500]\n",
        "\n",
        "for n in n_estimators:\n",
        "    RF_model = RandomForestClassifier(n_estimators=n, random_state=101)\n",
        "    RF_model.fit(x_train, y_train)\n",
        "    y_pred_proba = RF_model.predict_proba(x_test)[:, 1]\n",
        "    results.append(roc_auc_score(y_test, y_pred_proba))\n",
        "\n",
        "pd.Series(results, n_estimators).plot(color='green', marker='o')\n",
        "plt.xlabel('Number of Estimators')\n",
        "plt.ylabel('AUC Score')\n",
        "plt.title('AUC Score vs. Number of Estimators')\n",
        "plt.show()"
      ]
    },
    {
      "cell_type": "markdown",
      "id": "024733bd",
      "metadata": {
        "id": "024733bd"
      },
      "source": [
        "1. Write your observations about the Classifier’s behavior with respect to the number of estimators\n",
        "\n",
        "The accuracy score increases as the number of estimators increases up to around 200, after which it drastically decreases and does not improve much further. The AUC score, on the other side, continues to improve with a larger number of estimators, indicating that the model might possibly benefit from even more estimators."
      ]
    },
    {
      "cell_type": "markdown",
      "id": "334d7c91",
      "metadata": {
        "id": "334d7c91"
      },
      "source": [
        "2. Is there an optimal value of the estimator within the given range?\n",
        "\n",
        "For accuracy score, the optimal value is around 170 while for AUC score it is around 500."
      ]
    },
    {
      "cell_type": "markdown",
      "id": "033d7c82",
      "metadata": {
        "id": "033d7c82"
      },
      "source": [
        "## 3. Building AdaBoost, Gradient Boost, and XGB"
      ]
    },
    {
      "cell_type": "markdown",
      "id": "ec4ce988",
      "metadata": {
        "id": "ec4ce988"
      },
      "source": [
        "**Model 2 - AdaBoost**"
      ]
    },
    {
      "cell_type": "markdown",
      "id": "6e9e0426",
      "metadata": {
        "id": "6e9e0426"
      },
      "source": [
        "**Accuracy vs. n_estimators**"
      ]
    },
    {
      "cell_type": "code",
      "execution_count": 26,
      "id": "a4dcd5db",
      "metadata": {
        "colab": {
          "base_uri": "https://localhost:8080/",
          "height": 295
        },
        "id": "a4dcd5db",
        "outputId": "8ab13f30-e38b-4b68-fb24-66155043ca0b"
      },
      "outputs": [
        {
          "output_type": "display_data",
          "data": {
            "text/plain": [
              "<Figure size 432x288 with 1 Axes>"
            ],
            "image/png": "[encoded data removed]"
          },
          "metadata": {
            "needs_background": "light"
          }
        }
      ],
      "source": [
        "#Creating a loop to train and test multiple AdaBoost classifiers with different number of n_estimators\n",
        "#and calculating the accuracy score for each one. Then, plotting the results in a line chart.\n",
        "results = []\n",
        "n_estimator = [50,100,150,200,250,300,350,400,450,500]\n",
        "\n",
        "for n in n_estimator:\n",
        "  Ada_model = AdaBoostClassifier(n_estimators=n, random_state=101)\n",
        "  Ada_model.fit(x_train,y_train)\n",
        "  y_pred = Ada_model.predict(x_test)\n",
        "  accuracy = np.mean(y_test==y_pred)\n",
        "  results.append(accuracy)\n",
        "\n",
        "pd.Series(results, n_estimator).plot(color='red', marker='o')\n",
        "plt.xlabel('Number of Estimators')\n",
        "plt.ylabel('Accuracy Score')\n",
        "plt.title('Accuracy Score vs. Number of Estimators')\n",
        "plt.show()"
      ]
    },
    {
      "cell_type": "markdown",
      "id": "3c556a13",
      "metadata": {
        "id": "3c556a13"
      },
      "source": [
        "**AUC vs. n_estimators**"
      ]
    },
    {
      "cell_type": "code",
      "execution_count": 27,
      "id": "fef208ad",
      "metadata": {
        "colab": {
          "base_uri": "https://localhost:8080/",
          "height": 295
        },
        "id": "fef208ad",
        "outputId": "868d6b95-024e-4d7b-df8d-6c4d0abb9268"
      },
      "outputs": [
        {
          "output_type": "display_data",
          "data": {
            "text/plain": [
              "<Figure size 432x288 with 1 Axes>"
            ],
            "image/png": "[encoded data removed]"
          },
          "metadata": {
            "needs_background": "light"
          }
        }
      ],
      "source": [
        "#Creating a loop to train and test multiple AdaBoost classifiers with different number of n_estimators\n",
        "#and calculating the AUC score for each one. Then, plotting the results in a line chart.\n",
        "results = []\n",
        "n_estimators = [50, 100, 150, 200, 250, 300, 350, 400, 450, 500]\n",
        "\n",
        "for n in n_estimators:\n",
        "    Ada_model = AdaBoostClassifier(n_estimators=n, random_state=101)\n",
        "    Ada_model.fit(x_train, y_train)\n",
        "    y_pred_proba = Ada_model.predict_proba(x_test)[:, 1]\n",
        "    results.append(roc_auc_score(y_test, y_pred_proba))\n",
        "\n",
        "pd.Series(results, n_estimators).plot(color='green', marker='o')\n",
        "plt.xlabel('Number of Estimators')\n",
        "plt.ylabel('AUC Score')\n",
        "plt.title('AUC Score vs. Number of Estimators')\n",
        "plt.show()"
      ]
    },
    {
      "cell_type": "markdown",
      "id": "915ba265",
      "metadata": {
        "id": "915ba265"
      },
      "source": [
        "1. Write your observations about the Classifier’s behavior with respect to the number of estimators\n",
        "\n",
        "In AdaBoost we see a decrease in accuracy score as the number of estimators increase and an incrase in AUC score as the number of estimators increases."
      ]
    },
    {
      "cell_type": "markdown",
      "id": "c9d8c7be",
      "metadata": {
        "id": "c9d8c7be"
      },
      "source": [
        "2. Is there an optimal value of the estimator within the given range?\n",
        "\n",
        "The optimal value for accuracy score is around 20-30 and for AUC score the oprimal value will have a range of 100-500 since we see that the values are almost equally high after reaching 100 all the way until the value of 500."
      ]
    },
    {
      "cell_type": "markdown",
      "id": "ae8b7401",
      "metadata": {
        "id": "ae8b7401"
      },
      "source": [
        "**Model 3 - Gradient Boost**"
      ]
    },
    {
      "cell_type": "markdown",
      "id": "d17af8fa",
      "metadata": {
        "id": "d17af8fa"
      },
      "source": [
        "**Accuracy vs. n_estimators**"
      ]
    },
    {
      "cell_type": "code",
      "execution_count": 28,
      "id": "12550018",
      "metadata": {
        "colab": {
          "base_uri": "https://localhost:8080/",
          "height": 295
        },
        "id": "12550018",
        "outputId": "371c5fc9-560b-4921-bed9-22a99198f26c"
      },
      "outputs": [
        {
          "output_type": "display_data",
          "data": {
            "text/plain": [
              "<Figure size 432x288 with 1 Axes>"
            ],
            "image/png": "[encoded data removed]"
          },
          "metadata": {
            "needs_background": "light"
          }
        }
      ],
      "source": [
        "#Creating a loop to train and test multiple Gradient Boost classifiers with different number of n_estimators\n",
        "#and calculating the accuracy score for each one. Then, plotting the results in a line chart.\n",
        "results = []\n",
        "n_estimator = [50,100,150,200,250,300,350,400,450,500]\n",
        "for n in n_estimator:\n",
        "  GB_model = GradientBoostingClassifier(n_estimators=n, random_state=101)\n",
        "  GB_model.fit(x_train,y_train)\n",
        "  y_pred = GB_model.predict(x_test)\n",
        "  accuracy = np.mean(y_test==y_pred)\n",
        "  results.append(accuracy)\n",
        "\n",
        "pd.Series(results, n_estimator).plot(color='red', marker='o')\n",
        "plt.xlabel('Number of Estimators')\n",
        "plt.ylabel('Accuracy Score')\n",
        "plt.title('Accuracy Score vs. Number of Estimators')\n",
        "plt.show()"
      ]
    },
    {
      "cell_type": "markdown",
      "id": "6fe4ac8e",
      "metadata": {
        "id": "6fe4ac8e"
      },
      "source": [
        "**AUC vs. n_estimators**"
      ]
    },
    {
      "cell_type": "code",
      "execution_count": 29,
      "id": "515659ca",
      "metadata": {
        "colab": {
          "base_uri": "https://localhost:8080/",
          "height": 295
        },
        "id": "515659ca",
        "outputId": "c3b0b4b0-16bb-4147-d95a-a336afcf68dd"
      },
      "outputs": [
        {
          "output_type": "display_data",
          "data": {
            "text/plain": [
              "<Figure size 432x288 with 1 Axes>"
            ],
            "image/png": "[encoded data removed]"
          },
          "metadata": {
            "needs_background": "light"
          }
        }
      ],
      "source": [
        "#Creating a loop to train and test multiple Gradient Boost classifiers with different number of n_estimators\n",
        "#and calculating the AUC score for each one. Then, plotting the results in a line chart.\n",
        "results = []\n",
        "n_estimators = [50, 100, 150, 200, 250, 300, 350, 400, 450, 500]\n",
        "\n",
        "for n in n_estimators:\n",
        "    GB_model = GradientBoostingClassifier(n_estimators=n, random_state=101)\n",
        "    GB_model.fit(x_train, y_train)\n",
        "    y_pred_proba = GB_model.predict_proba(x_test)[:, 1]\n",
        "    results.append(roc_auc_score(y_test, y_pred_proba))\n",
        "\n",
        "pd.Series(results, n_estimators).plot(color='green', marker='o')\n",
        "plt.xlabel('Number of Estimators')\n",
        "plt.ylabel('AUC Score')\n",
        "plt.title('AUC Score vs. Number of Estimators')\n",
        "plt.show()"
      ]
    },
    {
      "cell_type": "markdown",
      "id": "2268c895",
      "metadata": {
        "id": "2268c895"
      },
      "source": [
        "1. Write your observations about the Classifier’s behavior with respect to the number of estimators\n",
        "\n",
        "With respect to accuracy score, Gradient Boost's performance decreases as the number of estimators increases and for AUC score - it performs generally better wth the higher number of estimators."
      ]
    },
    {
      "cell_type": "markdown",
      "id": "03026bb4",
      "metadata": {
        "id": "03026bb4"
      },
      "source": [
        "2. Is there an optimal value of the estimator within the given range?\n",
        "\n",
        "The optimal value for accuracy score is somewhere around 10-20 while for AUC it is around 200."
      ]
    },
    {
      "cell_type": "markdown",
      "id": "ecf16d65",
      "metadata": {
        "id": "ecf16d65"
      },
      "source": [
        "**Model 4 - XGB**"
      ]
    },
    {
      "cell_type": "code",
      "execution_count": 30,
      "id": "c467bae6",
      "metadata": {
        "id": "c467bae6"
      },
      "outputs": [],
      "source": [
        "#The feature names contain special characters like periods or spaces that were not be compatible with the XGBoost\n",
        "#versions. I needed to rename the features so they contain only alphanumeric characters and underscores, pass a list\n",
        "#of new columns and replace them with old columns in x_test, x_train, y_test, and y_train data. After that I was able\n",
        "#to run the XGB Classifier\n",
        "\n",
        "new_col_names = ['workclass_bin_a_no_income', 'workclass_bin_b_income',\n",
        "                 'education_num_bin_a_0to8', 'education_num_bin_b_9to12',\n",
        "                 'education_num_bin_c_13', 'education_num_bin_d_14',\n",
        "                 'education_num_bin_e_15plus', 'education_bin_a_Low',\n",
        "                 'education_bin_b_Mid', 'education_bin_c_Bachelors',\n",
        "                 'education_bin_d_Masters', 'education_bin_e_High',\n",
        "                 'msr_bin_a_Low', 'msr_bin_b_Mid', 'msr_bin_c_High',\n",
        "                 'age_bin_a_0to25', 'age_bin_b_26to30_71to100',\n",
        "                 'age_bin_c_31to35_61to70', 'age_bin_d_36to40_56to60',\n",
        "                 'age_bin_e_40to55', 'race_sex_bin_a_Low',\n",
        "                 'race_sex_bin_b_Mid', 'race_sex_bin_c_High',\n",
        "                 'capital_gl_bin_a_e_0', 'capital_gl_bin_b_l_0',\n",
        "                 'capital_gl_bin_c_g_0', 'occupation_bin_a_Low',\n",
        "                 'occupation_bin_b_MidtoLow', 'occupation_bin_c_MidtoMid',\n",
        "                 'occupation_bin_d_MidtoHigh', 'occupation_bin_e_High',\n",
        "                 'hours_per_week_bin_a_0to30', 'hours_per_week_bin_b_31to40',\n",
        "                 'hours_per_week_bin_c_71to100', 'hours_per_week_bin_d_41to50_61to70',\n",
        "                 'hours_per_week_bin_e_51to60']\n",
        "\n",
        "x_test.columns = new_col_names"
      ]
    },
    {
      "cell_type": "code",
      "execution_count": 31,
      "id": "873bb83f",
      "metadata": {
        "id": "873bb83f"
      },
      "outputs": [],
      "source": [
        "new_col_names = ['workclass_bin_a_no_income', 'workclass_bin_b_income',\n",
        "                 'education_num_bin_a_0to8', 'education_num_bin_b_9to12',\n",
        "                 'education_num_bin_c_13', 'education_num_bin_d_14',\n",
        "                 'education_num_bin_e_15plus', 'education_bin_a_Low',\n",
        "                 'education_bin_b_Mid', 'education_bin_c_Bachelors',\n",
        "                 'education_bin_d_Masters', 'education_bin_e_High',\n",
        "                 'msr_bin_a_Low', 'msr_bin_b_Mid', 'msr_bin_c_High',\n",
        "                 'age_bin_a_0to25', 'age_bin_b_26to30_71to100',\n",
        "                 'age_bin_c_31to35_61to70', 'age_bin_d_36to40_56to60',\n",
        "                 'age_bin_e_40to55', 'race_sex_bin_a_Low',\n",
        "                 'race_sex_bin_b_Mid', 'race_sex_bin_c_High',\n",
        "                 'capital_gl_bin_a_e_0', 'capital_gl_bin_b_l_0',\n",
        "                 'capital_gl_bin_c_g_0', 'occupation_bin_a_Low',\n",
        "                 'occupation_bin_b_MidtoLow', 'occupation_bin_c_MidtoMid',\n",
        "                 'occupation_bin_d_MidtoHigh', 'occupation_bin_e_High',\n",
        "                 'hours_per_week_bin_a_0to30', 'hours_per_week_bin_b_31to40',\n",
        "                 'hours_per_week_bin_c_71to100', 'hours_per_week_bin_d_41to50_61to70',\n",
        "                 'hours_per_week_bin_e_51to60']\n",
        "\n",
        "y_test.columns = new_col_names"
      ]
    },
    {
      "cell_type": "code",
      "execution_count": 32,
      "id": "16d4551c",
      "metadata": {
        "id": "16d4551c"
      },
      "outputs": [],
      "source": [
        "new_col_names = ['workclass_bin_a_no_income', 'workclass_bin_b_income',\n",
        "                 'education_num_bin_a_0to8', 'education_num_bin_b_9to12',\n",
        "                 'education_num_bin_c_13', 'education_num_bin_d_14',\n",
        "                 'education_num_bin_e_15plus', 'education_bin_a_Low',\n",
        "                 'education_bin_b_Mid', 'education_bin_c_Bachelors',\n",
        "                 'education_bin_d_Masters', 'education_bin_e_High',\n",
        "                 'msr_bin_a_Low', 'msr_bin_b_Mid', 'msr_bin_c_High',\n",
        "                 'age_bin_a_0to25', 'age_bin_b_26to30_71to100',\n",
        "                 'age_bin_c_31to35_61to70', 'age_bin_d_36to40_56to60',\n",
        "                 'age_bin_e_40to55', 'race_sex_bin_a_Low',\n",
        "                 'race_sex_bin_b_Mid', 'race_sex_bin_c_High',\n",
        "                 'capital_gl_bin_a_e_0', 'capital_gl_bin_b_l_0',\n",
        "                 'capital_gl_bin_c_g_0', 'occupation_bin_a_Low',\n",
        "                 'occupation_bin_b_MidtoLow', 'occupation_bin_c_MidtoMid',\n",
        "                 'occupation_bin_d_MidtoHigh', 'occupation_bin_e_High',\n",
        "                 'hours_per_week_bin_a_0to30', 'hours_per_week_bin_b_31to40',\n",
        "                 'hours_per_week_bin_c_71to100', 'hours_per_week_bin_d_41to50_61to70',\n",
        "                 'hours_per_week_bin_e_51to60']\n",
        "\n",
        "x_train.columns = new_col_names"
      ]
    },
    {
      "cell_type": "code",
      "execution_count": 33,
      "id": "beb15318",
      "metadata": {
        "id": "beb15318"
      },
      "outputs": [],
      "source": [
        "new_col_names = ['workclass_bin_a_no_income', 'workclass_bin_b_income',\n",
        "                 'education_num_bin_a_0to8', 'education_num_bin_b_9to12',\n",
        "                 'education_num_bin_c_13', 'education_num_bin_d_14',\n",
        "                 'education_num_bin_e_15plus', 'education_bin_a_Low',\n",
        "                 'education_bin_b_Mid', 'education_bin_c_Bachelors',\n",
        "                 'education_bin_d_Masters', 'education_bin_e_High',\n",
        "                 'msr_bin_a_Low', 'msr_bin_b_Mid', 'msr_bin_c_High',\n",
        "                 'age_bin_a_0to25', 'age_bin_b_26to30_71to100',\n",
        "                 'age_bin_c_31to35_61to70', 'age_bin_d_36to40_56to60',\n",
        "                 'age_bin_e_40to55', 'race_sex_bin_a_Low',\n",
        "                 'race_sex_bin_b_Mid', 'race_sex_bin_c_High',\n",
        "                 'capital_gl_bin_a_e_0', 'capital_gl_bin_b_l_0',\n",
        "                 'capital_gl_bin_c_g_0', 'occupation_bin_a_Low',\n",
        "                 'occupation_bin_b_MidtoLow', 'occupation_bin_c_MidtoMid',\n",
        "                 'occupation_bin_d_MidtoHigh', 'occupation_bin_e_High',\n",
        "                 'hours_per_week_bin_a_0to30', 'hours_per_week_bin_b_31to40',\n",
        "                 'hours_per_week_bin_c_71to100', 'hours_per_week_bin_d_41to50_61to70',\n",
        "                 'hours_per_week_bin_e_51to60']\n",
        "\n",
        "y_train.columns = new_col_names"
      ]
    },
    {
      "cell_type": "markdown",
      "id": "61493c54",
      "metadata": {
        "id": "61493c54"
      },
      "source": [
        "**Accuracy vs. n_estimators**"
      ]
    },
    {
      "cell_type": "code",
      "execution_count": 23,
      "id": "61343729",
      "metadata": {
        "colab": {
          "base_uri": "https://localhost:8080/",
          "height": 295
        },
        "id": "61343729",
        "outputId": "ebd5cde8-cc6c-4d3f-a238-554fe678d86d"
      },
      "outputs": [
        {
          "output_type": "display_data",
          "data": {
            "text/plain": [
              "<Figure size 432x288 with 1 Axes>"
            ],
            "image/png": "[encoded data removed]"
          },
          "metadata": {
            "needs_background": "light"
          }
        }
      ],
      "source": [
        "#Creating a loop to train and test multiple XGB classifiers with different number of n_estimators\n",
        "#and calculating the accuracy score for each one. Then, plotting the results in a line chart.\n",
        "results = []\n",
        "n_estimator = [50, 100, 150, 200, 250, 300, 350, 400, 450, 500]\n",
        "for n in n_estimator:\n",
        "    XGB_model = xgb.XGBClassifier(n_estimators=n, random_state=101)\n",
        "    XGB_model.fit(x_train, y_train)\n",
        "    y_pred = XGB_model.predict(x_test)\n",
        "    accuracy = np.mean(y_test==y_pred)\n",
        "    results.append(accuracy)\n",
        "\n",
        "pd.Series(results, n_estimator).plot(color='red', marker='o')\n",
        "plt.xlabel('Number of Estimators')\n",
        "plt.ylabel('Accuracy Score')\n",
        "plt.title('Accuracy Score vs. Number of Estimators')\n",
        "plt.show()"
      ]
    },
    {
      "cell_type": "markdown",
      "id": "449163ce",
      "metadata": {
        "id": "449163ce"
      },
      "source": [
        "**AUC vs. n_estimators**"
      ]
    },
    {
      "cell_type": "code",
      "execution_count": 34,
      "id": "abfc4f83",
      "metadata": {
        "colab": {
          "base_uri": "https://localhost:8080/",
          "height": 295
        },
        "id": "abfc4f83",
        "outputId": "564a00f7-c6aa-49d8-80ac-ce9ae16a103f"
      },
      "outputs": [
        {
          "output_type": "display_data",
          "data": {
            "text/plain": [
              "<Figure size 432x288 with 1 Axes>"
            ],
            "image/png": "[encoded data removed]"
          },
          "metadata": {
            "needs_background": "light"
          }
        }
      ],
      "source": [
        "#Creating a loop to train and test multiple XGB classifiers with different number of n_estimators\n",
        "#and calculating the AUC score for each one. Then, plotting the results in a line chart.\n",
        "results = []\n",
        "n_estimator = [50, 100, 150, 200, 250, 300, 350, 400, 450, 500]\n",
        "for n in n_estimator:\n",
        "    XGB_model = xgb.XGBClassifier(n_estimators=n, random_state=101)\n",
        "    XGB_model.fit(x_train, y_train)\n",
        "    y_pred = XGB_model.predict(x_test)\n",
        "    auc = roc_auc_score(y_test, y_pred)\n",
        "    results.append(auc)\n",
        "\n",
        "pd.Series(results, n_estimator).plot(color='green', marker='o')\n",
        "plt.xlabel('Number of Estimators')\n",
        "plt.ylabel('AUC Score')\n",
        "plt.title('AUC Score vs. Number of Estimators')\n",
        "plt.show()"
      ]
    },
    {
      "cell_type": "markdown",
      "id": "a0a98ecb",
      "metadata": {
        "id": "a0a98ecb"
      },
      "source": [
        "1. Write your observations about the Classifier’s behavior with respect to the number of estimators\n",
        "\n",
        "XGB's performance behaves similar to Gradient Boost's accuracy scores - the accuracy decreases as the number of estimators increases. The AUC score behaves similarly to accuracy score in this case - it tends to decrease with an increase in the number of estimators."
      ]
    },
    {
      "cell_type": "markdown",
      "id": "2014a36e",
      "metadata": {
        "id": "2014a36e"
      },
      "source": [
        "2. Is there an optimal value of the estimator within the given range?\n",
        "\n",
        "The optimal values for both accuracy and AUC scores will be the same and will have values of around 10-20."
      ]
    },
    {
      "cell_type": "markdown",
      "id": "ffb9baa3",
      "metadata": {
        "id": "ffb9baa3"
      },
      "source": [
        "## 4. Compare Performance"
      ]
    },
    {
      "cell_type": "markdown",
      "id": "1e3e75a9",
      "metadata": {
        "id": "1e3e75a9"
      },
      "source": [
        "**Random Forest**"
      ]
    },
    {
      "cell_type": "code",
      "execution_count": 35,
      "id": "dd493dca",
      "metadata": {
        "colab": {
          "base_uri": "https://localhost:8080/"
        },
        "id": "dd493dca",
        "outputId": "8962efb0-97ad-48bb-a1e7-f95a79003d47"
      },
      "outputs": [
        {
          "output_type": "stream",
          "name": "stdout",
          "text": [
            "Best Accuracy for Random Forest: 0.8389533812419384\n",
            "Number of estimators: 150\n"
          ]
        }
      ],
      "source": [
        "#Checking the best accuracy score and the corresponding number of estimators in Random Forest Classifier\n",
        "results_RF = []\n",
        "n_estimators = [50, 100, 150, 200, 250, 300, 350, 400, 450, 500]\n",
        "\n",
        "for n in n_estimators:\n",
        "    RF_model = RandomForestClassifier(n_estimators=n, random_state=101)\n",
        "    RF_model.fit(x_train, y_train)\n",
        "    y_pred = RF_model.predict(x_test)\n",
        "    accuracy = np.mean(y_test == y_pred)\n",
        "    results_RF.append(accuracy)\n",
        "\n",
        "best_accuracy_index_RF = np.argmax(results_RF)\n",
        "\n",
        "print(\"Best Accuracy for Random Forest:\", results_RF[best_accuracy_index_RF])\n",
        "print(\"Number of estimators:\", n_estimators[best_accuracy_index_RF])"
      ]
    },
    {
      "cell_type": "code",
      "execution_count": 47,
      "id": "e0b7c9df",
      "metadata": {
        "colab": {
          "base_uri": "https://localhost:8080/"
        },
        "id": "e0b7c9df",
        "outputId": "c357c6b5-4b7d-4aab-e116-b5250ae9453b"
      },
      "outputs": [
        {
          "output_type": "stream",
          "name": "stdout",
          "text": [
            "Best AUC Score for Random Forest: 0.8818670189509631\n",
            "Number of estimators: 500\n"
          ]
        }
      ],
      "source": [
        "#Checking the best AUC score and the corresponding number of estimators in Random Forest Classifier\n",
        "results_RF_1 = []\n",
        "n_estimators = [50, 100, 150, 200, 250, 300, 350, 400, 450, 500]\n",
        "\n",
        "for n in n_estimators:\n",
        "    RF_model = RandomForestClassifier(n_estimators=n, random_state=101)\n",
        "    RF_model.fit(x_train, y_train)\n",
        "    y_pred_proba = RF_model.predict_proba(x_test)[:, 1]\n",
        "    auc_score = roc_auc_score(y_test, y_pred_proba)\n",
        "    results_RF_1.append(auc_score)\n",
        "\n",
        "best_auc_index_RF = np.argmax(results_RF_1)\n",
        "\n",
        "print(\"Best AUC Score for Random Forest:\", results_RF_1[best_auc_index_RF])\n",
        "print(\"Number of estimators:\", n_estimators[best_auc_index_RF])"
      ]
    },
    {
      "cell_type": "markdown",
      "id": "973641e9",
      "metadata": {
        "id": "973641e9"
      },
      "source": [
        "**AdaBoost**"
      ]
    },
    {
      "cell_type": "code",
      "execution_count": 37,
      "id": "e170ff1d",
      "metadata": {
        "colab": {
          "base_uri": "https://localhost:8080/"
        },
        "id": "e170ff1d",
        "outputId": "8120a492-7887-455b-a5cc-08df543a9fa9"
      },
      "outputs": [
        {
          "output_type": "stream",
          "name": "stdout",
          "text": [
            "Best Accuracy for AdaBoost: 0.8453411952582766\n",
            "Number of estimators: 50\n"
          ]
        }
      ],
      "source": [
        "#Checking the best accuracy score and the corresponding number of estimators in AdaBoost Classifier\n",
        "results_AB = []\n",
        "n_estimators = [50, 100, 150, 200, 250, 300, 350, 400, 450, 500]\n",
        "\n",
        "for n in n_estimators:\n",
        "    Ada_model = AdaBoostClassifier(n_estimators=n, random_state=101)\n",
        "    Ada_model.fit(x_train, y_train)\n",
        "    y_pred = Ada_model.predict(x_test)\n",
        "    accuracy = np.mean(y_test == y_pred)\n",
        "    results_AB.append(accuracy)\n",
        "\n",
        "best_accuracy_index_Ada = np.argmax(results_AB)\n",
        "\n",
        "print(\"Best Accuracy for AdaBoost:\", results_AB[best_accuracy_index_Ada])\n",
        "print(\"Number of estimators:\", n_estimators[best_accuracy_index_Ada])"
      ]
    },
    {
      "cell_type": "code",
      "execution_count": 46,
      "id": "2bd04883",
      "metadata": {
        "colab": {
          "base_uri": "https://localhost:8080/"
        },
        "id": "2bd04883",
        "outputId": "970554ba-25b0-4af7-fb82-5c1d44c5f2a4"
      },
      "outputs": [
        {
          "output_type": "stream",
          "name": "stdout",
          "text": [
            "Best AUC Score for AdaBoost: 0.8973772718500216\n",
            "Number of estimators: 150\n"
          ]
        }
      ],
      "source": [
        "#Checking the best AUC score and the corresponding number of estimators in AdaBoost Classifier\n",
        "results_AB_1 = []\n",
        "n_estimators = [50, 100, 150, 200, 250, 300, 350, 400, 450, 500]\n",
        "\n",
        "for n in n_estimators:\n",
        "    Ada_model = AdaBoostClassifier(n_estimators=n, random_state=101)\n",
        "    Ada_model.fit(x_train, y_train)\n",
        "    y_pred = Ada_model.predict(x_test)\n",
        "    y_pred_proba = Ada_model.predict_proba(x_test)[:, 1]\n",
        "    auc_score = roc_auc_score(y_test, y_pred_proba)\n",
        "    results_AB_1.append(auc_score)\n",
        "\n",
        "best_auc_index_Ada = np.argmax(results_AB_1)\n",
        "\n",
        "print(\"Best AUC Score for AdaBoost:\", results_AB_1[best_auc_index_Ada])\n",
        "print(\"Number of estimators:\", n_estimators[best_auc_index_Ada])"
      ]
    },
    {
      "cell_type": "markdown",
      "id": "a217dbab",
      "metadata": {
        "id": "a217dbab"
      },
      "source": [
        "**Gradient Boost**"
      ]
    },
    {
      "cell_type": "code",
      "execution_count": 39,
      "id": "9cd1621a",
      "metadata": {
        "colab": {
          "base_uri": "https://localhost:8080/"
        },
        "id": "9cd1621a",
        "outputId": "807284f3-38a6-44a2-d68f-926d583818e1"
      },
      "outputs": [
        {
          "output_type": "stream",
          "name": "stdout",
          "text": [
            "Best Accuracy for Gradient Boost: 0.8472452552054542\n",
            "Number of estimators: 50\n"
          ]
        }
      ],
      "source": [
        "#Checking the best accuracy score and the corresponding number of estimators in Gradient Boost Classifier\n",
        "results_GB = []\n",
        "n_estimators = [50, 100, 150, 200, 250, 300, 350, 400, 450, 500]\n",
        "\n",
        "for n in n_estimators:\n",
        "    GB_model = GradientBoostingClassifier(n_estimators=n, random_state=101)\n",
        "    GB_model.fit(x_train, y_train)\n",
        "    y_pred = GB_model.predict(x_test)\n",
        "    accuracy = np.mean(y_test == y_pred)\n",
        "    results_GB.append(accuracy)\n",
        "\n",
        "best_accuracy_index_GB = np.argmax(results_GB)\n",
        "\n",
        "print(\"Best Accuracy for Gradient Boost:\", results_GB[best_accuracy_index_GB])\n",
        "print(\"Number of estimators:\", n_estimators[best_accuracy_index_GB])"
      ]
    },
    {
      "cell_type": "code",
      "execution_count": 48,
      "id": "d1d9b02a",
      "metadata": {
        "colab": {
          "base_uri": "https://localhost:8080/"
        },
        "id": "d1d9b02a",
        "outputId": "0240754d-316d-47d5-bb0e-a9b6c3bebd73"
      },
      "outputs": [
        {
          "output_type": "stream",
          "name": "stdout",
          "text": [
            "Best AUC Score for Gradient Boost: 0.8990456248728438\n",
            "Number of estimators: 200\n"
          ]
        }
      ],
      "source": [
        "#Checking the best AUC score and the corresponding number of estimators in Gradient Boost Classifier\n",
        "results_GB_1 = []\n",
        "n_estimators = [50, 100, 150, 200, 250, 300, 350, 400, 450, 500]\n",
        "\n",
        "for n in n_estimators:\n",
        "    GB_model = GradientBoostingClassifier(n_estimators=n, random_state=101)\n",
        "    GB_model.fit(x_train, y_train)\n",
        "    y_pred = GB_model.predict(x_test)\n",
        "    y_pred_proba = GB_model.predict_proba(x_test)[:, 1]\n",
        "    auc_score = roc_auc_score(y_test, y_pred_proba)\n",
        "    results_GB_1.append(auc_score)\n",
        "\n",
        "best_auc_index_GB = np.argmax(results_GB_1)\n",
        "\n",
        "print(\"Best AUC Score for Gradient Boost:\", results_GB_1[best_auc_index_GB])\n",
        "print(\"Number of estimators:\", n_estimators[best_auc_index_GB])"
      ]
    },
    {
      "cell_type": "markdown",
      "id": "04318796",
      "metadata": {
        "id": "04318796"
      },
      "source": [
        "**XGBoost**"
      ]
    },
    {
      "cell_type": "code",
      "execution_count": 41,
      "id": "501d76ef",
      "metadata": {
        "colab": {
          "base_uri": "https://localhost:8080/"
        },
        "id": "501d76ef",
        "outputId": "10ac9265-fcbc-4031-ad94-3556d4d60933"
      },
      "outputs": [
        {
          "output_type": "stream",
          "name": "stdout",
          "text": [
            "Best Accuracy for XGB: 0.8473680977826915\n",
            "Number of estimators: 100\n"
          ]
        }
      ],
      "source": [
        "#Checking the best accuracy score and the corresponding number of estimators in XGB Classifier\n",
        "results_XGB = []\n",
        "n_estimators = [50, 100, 150, 200, 250, 300, 350, 400, 450, 500]\n",
        "\n",
        "for n in n_estimators:\n",
        "    XGB_model = xgb.XGBClassifier(n_estimators=n, random_state=101)\n",
        "    XGB_model.fit(x_train, y_train)\n",
        "    y_pred = XGB_model.predict(x_test)\n",
        "    accuracy = np.mean(y_test == y_pred)\n",
        "    results_XGB.append(accuracy)\n",
        "\n",
        "best_accuracy_index_XGB = np.argmax(results_XGB)\n",
        "\n",
        "print(\"Best Accuracy for XGB:\", results_XGB[best_accuracy_index_XGB])\n",
        "print(\"Number of estimators:\", n_estimators[best_accuracy_index_XGB])"
      ]
    },
    {
      "cell_type": "code",
      "execution_count": 44,
      "id": "4e6206c0",
      "metadata": {
        "colab": {
          "base_uri": "https://localhost:8080/"
        },
        "id": "4e6206c0",
        "outputId": "6eac70bb-c320-4fdf-c582-2dde40a34188"
      },
      "outputs": [
        {
          "output_type": "stream",
          "name": "stdout",
          "text": [
            "Best AUC Score for XGB: 0.8991213906698609\n",
            "Number of estimators: 150\n"
          ]
        }
      ],
      "source": [
        "#Checking the best AUC score and the corresponding number of estimators in XGB Classifier\n",
        "results_XGB_1 = []\n",
        "n_estimators = [50, 100, 150, 200, 250, 300, 350, 400, 450, 500]\n",
        "\n",
        "for n in n_estimators:\n",
        "    XGB_model = xgb.XGBClassifier(n_estimators=n, random_state=101)\n",
        "    XGB_model.fit(x_train, y_train)\n",
        "    y_pred_proba = XGB_model.predict_proba(x_test)[:, 1]\n",
        "    auc_score = roc_auc_score(y_test, y_pred_proba)\n",
        "    results_XGB_1.append(auc_score)\n",
        "\n",
        "best_auc_index_XGB = np.argmax(results_XGB_1)\n",
        "\n",
        "print(\"Best AUC Score for XGB:\", results_XGB_1[best_auc_index_XGB])\n",
        "print(\"Number of estimators:\", n_estimators[best_auc_index_XGB])"
      ]
    },
    {
      "cell_type": "markdown",
      "source": [
        "**Table with the best accuracy and AUC values for all four models**"
      ],
      "metadata": {
        "id": "22QQgOQzOlXZ"
      },
      "id": "22QQgOQzOlXZ"
    },
    {
      "cell_type": "code",
      "execution_count": 49,
      "id": "f0c2d644",
      "metadata": {
        "colab": {
          "base_uri": "https://localhost:8080/",
          "height": 111
        },
        "id": "f0c2d644",
        "outputId": "a9dbc815-fe2d-48c7-a747-b5d3bdd0aaec"
      },
      "outputs": [
        {
          "output_type": "execute_result",
          "data": {
            "text/plain": [
              "          Random Forest  AdaBoost  Gradient Boost       XGB\n",
              "Accuracy       0.838953  0.845341        0.847245  0.847368\n",
              "AUC            0.881867  0.897377        0.899045  0.899121"
            ],
            "text/html": [
              "\n",
              "  <div id=\"df-b41a5e5e-af16-4d0c-83e9-9528588e22ac\">\n",
              "    <div class=\"colab-df-container\">\n",
              "      <div>\n",
              "<style scoped>\n",
              "    .dataframe tbody tr th:only-of-type {\n",
              "        vertical-align: middle;\n",
              "    }\n",
              "\n",
              "    .dataframe tbody tr th {\n",
              "        vertical-align: top;\n",
              "    }\n",
              "\n",
              "    .dataframe thead th {\n",
              "        text-align: right;\n",
              "    }\n",
              "</style>\n",
              "<table border=\"1\" class=\"dataframe\">\n",
              "  <thead>\n",
              "    <tr style=\"text-align: right;\">\n",
              "      <th></th>\n",
              "      <th>Random Forest</th>\n",
              "      <th>AdaBoost</th>\n",
              "      <th>Gradient Boost</th>\n",
              "      <th>XGB</th>\n",
              "    </tr>\n",
              "  </thead>\n",
              "  <tbody>\n",
              "    <tr>\n",
              "      <th>Accuracy</th>\n",
              "      <td>0.838953</td>\n",
              "      <td>0.845341</td>\n",
              "      <td>0.847245</td>\n",
              "      <td>0.847368</td>\n",
              "    </tr>\n",
              "    <tr>\n",
              "      <th>AUC</th>\n",
              "      <td>0.881867</td>\n",
              "      <td>0.897377</td>\n",
              "      <td>0.899045</td>\n",
              "      <td>0.899121</td>\n",
              "    </tr>\n",
              "  </tbody>\n",
              "</table>\n",
              "</div>\n",
              "      <button class=\"colab-df-convert\" onclick=\"convertToInteractive('df-b41a5e5e-af16-4d0c-83e9-9528588e22ac')\"\n",
              "              title=\"Convert this dataframe to an interactive table.\"\n",
              "              style=\"display:none;\">\n",
              "        \n",
              "  <svg xmlns=\"http://www.w3.org/2000/svg\" height=\"24px\"viewBox=\"0 0 24 24\"\n",
              "       width=\"24px\">\n",
              "    <path d=\"M0 0h24v24H0V0z\" fill=\"none\"/>\n",
              "    <path d=\"M18.56 5.44l.94 2.06.94-2.06 2.06-.94-2.06-.94-.94-2.06-.94 2.06-2.06.94zm-11 1L8.5 8.5l.94-2.06 2.06-.94-2.06-.94L8.5 2.5l-.94 2.06-2.06.94zm10 10l.94 2.06.94-2.06 2.06-.94-2.06-.94-.94-2.06-.94 2.06-2.06.94z\"/><path d=\"M17.41 7.96l-1.37-1.37c-.4-.4-.92-.59-1.43-.59-.52 0-1.04.2-1.43.59L10.3 9.45l-7.72 7.72c-.78.78-.78 2.05 0 2.83L4 21.41c.39.39.9.59 1.41.59.51 0 1.02-.2 1.41-.59l7.78-7.78 2.81-2.81c.8-.78.8-2.07 0-2.86zM5.41 20L4 18.59l7.72-7.72 1.47 1.35L5.41 20z\"/>\n",
              "  </svg>\n",
              "      </button>\n",
              "      \n",
              "  <style>\n",
              "    .colab-df-container {\n",
              "      display:flex;\n",
              "      flex-wrap:wrap;\n",
              "      gap: 12px;\n",
              "    }\n",
              "\n",
              "    .colab-df-convert {\n",
              "      background-color: #E8F0FE;\n",
              "      border: none;\n",
              "      border-radius: 50%;\n",
              "      cursor: pointer;\n",
              "      display: none;\n",
              "      fill: #1967D2;\n",
              "      height: 32px;\n",
              "      padding: 0 0 0 0;\n",
              "      width: 32px;\n",
              "    }\n",
              "\n",
              "    .colab-df-convert:hover {\n",
              "      background-color: #E2EBFA;\n",
              "      box-shadow: 0px 1px 2px rgba(60, 64, 67, 0.3), 0px 1px 3px 1px rgba(60, 64, 67, 0.15);\n",
              "      fill: #174EA6;\n",
              "    }\n",
              "\n",
              "    [theme=dark] .colab-df-convert {\n",
              "      background-color: #3B4455;\n",
              "      fill: #D2E3FC;\n",
              "    }\n",
              "\n",
              "    [theme=dark] .colab-df-convert:hover {\n",
              "      background-color: #434B5C;\n",
              "      box-shadow: 0px 1px 3px 1px rgba(0, 0, 0, 0.15);\n",
              "      filter: drop-shadow(0px 1px 2px rgba(0, 0, 0, 0.3));\n",
              "      fill: #FFFFFF;\n",
              "    }\n",
              "  </style>\n",
              "\n",
              "      <script>\n",
              "        const buttonEl =\n",
              "          document.querySelector('#df-b41a5e5e-af16-4d0c-83e9-9528588e22ac button.colab-df-convert');\n",
              "        buttonEl.style.display =\n",
              "          google.colab.kernel.accessAllowed ? 'block' : 'none';\n",
              "\n",
              "        async function convertToInteractive(key) {\n",
              "          const element = document.querySelector('#df-b41a5e5e-af16-4d0c-83e9-9528588e22ac');\n",
              "          const dataTable =\n",
              "            await google.colab.kernel.invokeFunction('convertToInteractive',\n",
              "                                                     [key], {});\n",
              "          if (!dataTable) return;\n",
              "\n",
              "          const docLinkHtml = 'Like what you see? Visit the ' +\n",
              "            '<a target=\"_blank\" href=https://colab.research.google.com/notebooks/data_table.ipynb>data table notebook</a>'\n",
              "            + ' to learn more about interactive tables.';\n",
              "          element.innerHTML = '';\n",
              "          dataTable['output_type'] = 'display_data';\n",
              "          await google.colab.output.renderOutput(dataTable, element);\n",
              "          const docLink = document.createElement('div');\n",
              "          docLink.innerHTML = docLinkHtml;\n",
              "          element.appendChild(docLink);\n",
              "        }\n",
              "      </script>\n",
              "    </div>\n",
              "  </div>\n",
              "  "
            ]
          },
          "metadata": {},
          "execution_count": 49
        }
      ],
      "source": [
        "#Creating a dataframe to display a table of the best accuracy and the best AUC scores for each of the model\n",
        "data = {' ': ['Random Forest', 'AdaBoost', 'Gradient Boost', 'XGB'],\n",
        "        'Accuracy': [0.838953, 0.845341, 0.847245, 0.847368],\n",
        "        'AUC': [0.881867, 0.897377, 0.899045, 0.899121]}\n",
        "\n",
        "model_scores_df_1 = pd.DataFrame(data)\n",
        "model_scores_df_1 = model_scores_df_1.set_index(' ').T\n",
        "model_scores_df_1"
      ]
    },
    {
      "cell_type": "markdown",
      "source": [
        "XGB Classifier has the highest accuracy and the highest AUC scores"
      ],
      "metadata": {
        "id": "RnRhoGw-O1tA"
      },
      "id": "RnRhoGw-O1tA"
    }
  ],
  "metadata": {
    "kernelspec": {
      "display_name": "Python 3 (ipykernel)",
      "language": "python",
      "name": "python3"
    },
    "language_info": {
      "codemirror_mode": {
        "name": "ipython",
        "version": 3
      },
      "file_extension": ".py",
      "mimetype": "text/x-python",
      "name": "python",
      "nbconvert_exporter": "python",
      "pygments_lexer": "ipython3",
      "version": "3.9.13"
    },
    "colab": {
      "provenance": []
    }
  },
  "nbformat": 4,
  "nbformat_minor": 5
}