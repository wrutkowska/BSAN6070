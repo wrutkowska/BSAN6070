{
  "nbformat": 4,
  "nbformat_minor": 0,
  "metadata": {
    "colab": {
      "provenance": []
    },
    "kernelspec": {
      "name": "python3",
      "display_name": "Python 3"
    },
    "language_info": {
      "name": "python"
    }
  },
  "cells": [
    {
      "cell_type": "markdown",
      "source": [
        "# **CA05 – kNN based Movie Recommender Engine**"
      ],
      "metadata": {
        "id": "GhaB07SXuARh"
      }
    },
    {
      "cell_type": "markdown",
      "source": [
        "**What question are we trying to answer?**\n",
        "\n",
        "Given a movies data set, what are the 5 most similar movies to a movie query?"
      ],
      "metadata": {
        "id": "BqQlg1vkuI-b"
      }
    },
    {
      "cell_type": "code",
      "source": [
        "#Importing necessary libraries:\n",
        "import pandas as pd\n",
        "import numpy as np\n",
        "from sklearn import neighbors\n",
        "from sklearn.neighbors import KNeighborsClassifier, NearestNeighbors"
      ],
      "metadata": {
        "id": "x0x8ikAda8eU"
      },
      "execution_count": null,
      "outputs": []
    },
    {
      "cell_type": "code",
      "execution_count": null,
      "metadata": {
        "colab": {
          "base_uri": "https://localhost:8080/",
          "height": 979
        },
        "id": "7g-CVg_GazVr",
        "outputId": "17d10023-dc51-4708-d275-e0ce39f7c12f"
      },
      "outputs": [
        {
          "output_type": "execute_result",
          "data": {
            "text/plain": [
              "    Movie ID                        Movie Name  IMDB Rating  Biography  Drama  \\\n",
              "0         58                The Imitation Game          8.0          1      1   \n",
              "1          8                        Ex Machina          7.7          0      1   \n",
              "2         46                  A Beautiful Mind          8.2          1      1   \n",
              "3         62                 Good Will Hunting          8.3          0      1   \n",
              "4         97                      Forrest Gump          8.8          0      1   \n",
              "5         98                                21          6.8          0      1   \n",
              "6         31                            Gifted          7.6          0      1   \n",
              "7          3               Travelling Salesman          5.9          0      1   \n",
              "8         51                            Avatar          7.9          0      0   \n",
              "9         47                    The Karate Kid          7.2          0      1   \n",
              "10        50            A Brilliant Young Mind          7.2          0      1   \n",
              "11        49                    A Time To Kill          7.4          0      1   \n",
              "12        30                      Interstellar          8.6          0      1   \n",
              "13        94           The Wolf of Wall Street          8.2          1      0   \n",
              "14         6                     Black Panther          7.4          0      0   \n",
              "15        73                         Inception          8.8          0      0   \n",
              "16        44                    The Wind Rises          7.8          1      1   \n",
              "17        65                     Spirited Away          8.6          0      0   \n",
              "18        48                 Finding Forrester          7.3          0      1   \n",
              "19        27                      The Fountain          7.3          0      0   \n",
              "20        57                  The DaVinci Code          6.6          0      0   \n",
              "21        57                 Stand and Deliver          7.3          0      1   \n",
              "22        14                    The Terminator          8.0          0      0   \n",
              "23        69                    21 Jump Street          7.2          0      0   \n",
              "24        98                      The Avengers          8.1          0      0   \n",
              "25        17                    Thor: Ragnarok          7.9          0      0   \n",
              "26        12  Spirit: Stallion of the Cimarron          7.1          0      0   \n",
              "27         1                     Hacksaw Ridge          8.2          1      1   \n",
              "28        86                  12 Years a Slave          8.1          1      1   \n",
              "29        46                    Queen of Katwe          7.4          1      1   \n",
              "\n",
              "    Thriller  Comedy  Crime  Mystery  History  Label  \n",
              "0          1       0      0        0        0      0  \n",
              "1          0       0      0        1        0      0  \n",
              "2          0       0      0        0        0      0  \n",
              "3          0       0      0        0        0      0  \n",
              "4          0       0      0        0        0      0  \n",
              "5          0       0      1        0        1      0  \n",
              "6          0       0      0        0        0      0  \n",
              "7          0       0      0        1        0      0  \n",
              "8          0       0      0        0        0      0  \n",
              "9          0       0      0        0        0      0  \n",
              "10         0       0      0        0        0      0  \n",
              "11         1       0      1        0        0      0  \n",
              "12         0       0      0        0        0      0  \n",
              "13         0       1      1        0        0      0  \n",
              "14         0       0      0        0        0      0  \n",
              "15         0       0      0        0        0      0  \n",
              "16         0       0      0        0        0      0  \n",
              "17         0       0      0        0        0      0  \n",
              "18         0       0      0        0        0      0  \n",
              "19         0       0      0        0        0      0  \n",
              "20         1       0      0        1        0      0  \n",
              "21         0       0      0        0        0      0  \n",
              "22         0       0      0        0        0      0  \n",
              "23         0       1      1        0        0      0  \n",
              "24         0       0      0        0        0      0  \n",
              "25         0       1      0        0        0      0  \n",
              "26         0       0      0        0        0      0  \n",
              "27         0       0      0        0        1      0  \n",
              "28         0       0      0        0        1      0  \n",
              "29         0       0      0        0        0      0  "
            ],
            "text/html": [
              "\n",
              "  <div id=\"df-ba912934-1bdf-4e29-9fc0-9c0ca5787104\">\n",
              "    <div class=\"colab-df-container\">\n",
              "      <div>\n",
              "<style scoped>\n",
              "    .dataframe tbody tr th:only-of-type {\n",
              "        vertical-align: middle;\n",
              "    }\n",
              "\n",
              "    .dataframe tbody tr th {\n",
              "        vertical-align: top;\n",
              "    }\n",
              "\n",
              "    .dataframe thead th {\n",
              "        text-align: right;\n",
              "    }\n",
              "</style>\n",
              "<table border=\"1\" class=\"dataframe\">\n",
              "  <thead>\n",
              "    <tr style=\"text-align: right;\">\n",
              "      <th></th>\n",
              "      <th>Movie ID</th>\n",
              "      <th>Movie Name</th>\n",
              "      <th>IMDB Rating</th>\n",
              "      <th>Biography</th>\n",
              "      <th>Drama</th>\n",
              "      <th>Thriller</th>\n",
              "      <th>Comedy</th>\n",
              "      <th>Crime</th>\n",
              "      <th>Mystery</th>\n",
              "      <th>History</th>\n",
              "      <th>Label</th>\n",
              "    </tr>\n",
              "  </thead>\n",
              "  <tbody>\n",
              "    <tr>\n",
              "      <th>0</th>\n",
              "      <td>58</td>\n",
              "      <td>The Imitation Game</td>\n",
              "      <td>8.0</td>\n",
              "      <td>1</td>\n",
              "      <td>1</td>\n",
              "      <td>1</td>\n",
              "      <td>0</td>\n",
              "      <td>0</td>\n",
              "      <td>0</td>\n",
              "      <td>0</td>\n",
              "      <td>0</td>\n",
              "    </tr>\n",
              "    <tr>\n",
              "      <th>1</th>\n",
              "      <td>8</td>\n",
              "      <td>Ex Machina</td>\n",
              "      <td>7.7</td>\n",
              "      <td>0</td>\n",
              "      <td>1</td>\n",
              "      <td>0</td>\n",
              "      <td>0</td>\n",
              "      <td>0</td>\n",
              "      <td>1</td>\n",
              "      <td>0</td>\n",
              "      <td>0</td>\n",
              "    </tr>\n",
              "    <tr>\n",
              "      <th>2</th>\n",
              "      <td>46</td>\n",
              "      <td>A Beautiful Mind</td>\n",
              "      <td>8.2</td>\n",
              "      <td>1</td>\n",
              "      <td>1</td>\n",
              "      <td>0</td>\n",
              "      <td>0</td>\n",
              "      <td>0</td>\n",
              "      <td>0</td>\n",
              "      <td>0</td>\n",
              "      <td>0</td>\n",
              "    </tr>\n",
              "    <tr>\n",
              "      <th>3</th>\n",
              "      <td>62</td>\n",
              "      <td>Good Will Hunting</td>\n",
              "      <td>8.3</td>\n",
              "      <td>0</td>\n",
              "      <td>1</td>\n",
              "      <td>0</td>\n",
              "      <td>0</td>\n",
              "      <td>0</td>\n",
              "      <td>0</td>\n",
              "      <td>0</td>\n",
              "      <td>0</td>\n",
              "    </tr>\n",
              "    <tr>\n",
              "      <th>4</th>\n",
              "      <td>97</td>\n",
              "      <td>Forrest Gump</td>\n",
              "      <td>8.8</td>\n",
              "      <td>0</td>\n",
              "      <td>1</td>\n",
              "      <td>0</td>\n",
              "      <td>0</td>\n",
              "      <td>0</td>\n",
              "      <td>0</td>\n",
              "      <td>0</td>\n",
              "      <td>0</td>\n",
              "    </tr>\n",
              "    <tr>\n",
              "      <th>5</th>\n",
              "      <td>98</td>\n",
              "      <td>21</td>\n",
              "      <td>6.8</td>\n",
              "      <td>0</td>\n",
              "      <td>1</td>\n",
              "      <td>0</td>\n",
              "      <td>0</td>\n",
              "      <td>1</td>\n",
              "      <td>0</td>\n",
              "      <td>1</td>\n",
              "      <td>0</td>\n",
              "    </tr>\n",
              "    <tr>\n",
              "      <th>6</th>\n",
              "      <td>31</td>\n",
              "      <td>Gifted</td>\n",
              "      <td>7.6</td>\n",
              "      <td>0</td>\n",
              "      <td>1</td>\n",
              "      <td>0</td>\n",
              "      <td>0</td>\n",
              "      <td>0</td>\n",
              "      <td>0</td>\n",
              "      <td>0</td>\n",
              "      <td>0</td>\n",
              "    </tr>\n",
              "    <tr>\n",
              "      <th>7</th>\n",
              "      <td>3</td>\n",
              "      <td>Travelling Salesman</td>\n",
              "      <td>5.9</td>\n",
              "      <td>0</td>\n",
              "      <td>1</td>\n",
              "      <td>0</td>\n",
              "      <td>0</td>\n",
              "      <td>0</td>\n",
              "      <td>1</td>\n",
              "      <td>0</td>\n",
              "      <td>0</td>\n",
              "    </tr>\n",
              "    <tr>\n",
              "      <th>8</th>\n",
              "      <td>51</td>\n",
              "      <td>Avatar</td>\n",
              "      <td>7.9</td>\n",
              "      <td>0</td>\n",
              "      <td>0</td>\n",
              "      <td>0</td>\n",
              "      <td>0</td>\n",
              "      <td>0</td>\n",
              "      <td>0</td>\n",
              "      <td>0</td>\n",
              "      <td>0</td>\n",
              "    </tr>\n",
              "    <tr>\n",
              "      <th>9</th>\n",
              "      <td>47</td>\n",
              "      <td>The Karate Kid</td>\n",
              "      <td>7.2</td>\n",
              "      <td>0</td>\n",
              "      <td>1</td>\n",
              "      <td>0</td>\n",
              "      <td>0</td>\n",
              "      <td>0</td>\n",
              "      <td>0</td>\n",
              "      <td>0</td>\n",
              "      <td>0</td>\n",
              "    </tr>\n",
              "    <tr>\n",
              "      <th>10</th>\n",
              "      <td>50</td>\n",
              "      <td>A Brilliant Young Mind</td>\n",
              "      <td>7.2</td>\n",
              "      <td>0</td>\n",
              "      <td>1</td>\n",
              "      <td>0</td>\n",
              "      <td>0</td>\n",
              "      <td>0</td>\n",
              "      <td>0</td>\n",
              "      <td>0</td>\n",
              "      <td>0</td>\n",
              "    </tr>\n",
              "    <tr>\n",
              "      <th>11</th>\n",
              "      <td>49</td>\n",
              "      <td>A Time To Kill</td>\n",
              "      <td>7.4</td>\n",
              "      <td>0</td>\n",
              "      <td>1</td>\n",
              "      <td>1</td>\n",
              "      <td>0</td>\n",
              "      <td>1</td>\n",
              "      <td>0</td>\n",
              "      <td>0</td>\n",
              "      <td>0</td>\n",
              "    </tr>\n",
              "    <tr>\n",
              "      <th>12</th>\n",
              "      <td>30</td>\n",
              "      <td>Interstellar</td>\n",
              "      <td>8.6</td>\n",
              "      <td>0</td>\n",
              "      <td>1</td>\n",
              "      <td>0</td>\n",
              "      <td>0</td>\n",
              "      <td>0</td>\n",
              "      <td>0</td>\n",
              "      <td>0</td>\n",
              "      <td>0</td>\n",
              "    </tr>\n",
              "    <tr>\n",
              "      <th>13</th>\n",
              "      <td>94</td>\n",
              "      <td>The Wolf of Wall Street</td>\n",
              "      <td>8.2</td>\n",
              "      <td>1</td>\n",
              "      <td>0</td>\n",
              "      <td>0</td>\n",
              "      <td>1</td>\n",
              "      <td>1</td>\n",
              "      <td>0</td>\n",
              "      <td>0</td>\n",
              "      <td>0</td>\n",
              "    </tr>\n",
              "    <tr>\n",
              "      <th>14</th>\n",
              "      <td>6</td>\n",
              "      <td>Black Panther</td>\n",
              "      <td>7.4</td>\n",
              "      <td>0</td>\n",
              "      <td>0</td>\n",
              "      <td>0</td>\n",
              "      <td>0</td>\n",
              "      <td>0</td>\n",
              "      <td>0</td>\n",
              "      <td>0</td>\n",
              "      <td>0</td>\n",
              "    </tr>\n",
              "    <tr>\n",
              "      <th>15</th>\n",
              "      <td>73</td>\n",
              "      <td>Inception</td>\n",
              "      <td>8.8</td>\n",
              "      <td>0</td>\n",
              "      <td>0</td>\n",
              "      <td>0</td>\n",
              "      <td>0</td>\n",
              "      <td>0</td>\n",
              "      <td>0</td>\n",
              "      <td>0</td>\n",
              "      <td>0</td>\n",
              "    </tr>\n",
              "    <tr>\n",
              "      <th>16</th>\n",
              "      <td>44</td>\n",
              "      <td>The Wind Rises</td>\n",
              "      <td>7.8</td>\n",
              "      <td>1</td>\n",
              "      <td>1</td>\n",
              "      <td>0</td>\n",
              "      <td>0</td>\n",
              "      <td>0</td>\n",
              "      <td>0</td>\n",
              "      <td>0</td>\n",
              "      <td>0</td>\n",
              "    </tr>\n",
              "    <tr>\n",
              "      <th>17</th>\n",
              "      <td>65</td>\n",
              "      <td>Spirited Away</td>\n",
              "      <td>8.6</td>\n",
              "      <td>0</td>\n",
              "      <td>0</td>\n",
              "      <td>0</td>\n",
              "      <td>0</td>\n",
              "      <td>0</td>\n",
              "      <td>0</td>\n",
              "      <td>0</td>\n",
              "      <td>0</td>\n",
              "    </tr>\n",
              "    <tr>\n",
              "      <th>18</th>\n",
              "      <td>48</td>\n",
              "      <td>Finding Forrester</td>\n",
              "      <td>7.3</td>\n",
              "      <td>0</td>\n",
              "      <td>1</td>\n",
              "      <td>0</td>\n",
              "      <td>0</td>\n",
              "      <td>0</td>\n",
              "      <td>0</td>\n",
              "      <td>0</td>\n",
              "      <td>0</td>\n",
              "    </tr>\n",
              "    <tr>\n",
              "      <th>19</th>\n",
              "      <td>27</td>\n",
              "      <td>The Fountain</td>\n",
              "      <td>7.3</td>\n",
              "      <td>0</td>\n",
              "      <td>0</td>\n",
              "      <td>0</td>\n",
              "      <td>0</td>\n",
              "      <td>0</td>\n",
              "      <td>0</td>\n",
              "      <td>0</td>\n",
              "      <td>0</td>\n",
              "    </tr>\n",
              "    <tr>\n",
              "      <th>20</th>\n",
              "      <td>57</td>\n",
              "      <td>The DaVinci Code</td>\n",
              "      <td>6.6</td>\n",
              "      <td>0</td>\n",
              "      <td>0</td>\n",
              "      <td>1</td>\n",
              "      <td>0</td>\n",
              "      <td>0</td>\n",
              "      <td>1</td>\n",
              "      <td>0</td>\n",
              "      <td>0</td>\n",
              "    </tr>\n",
              "    <tr>\n",
              "      <th>21</th>\n",
              "      <td>57</td>\n",
              "      <td>Stand and Deliver</td>\n",
              "      <td>7.3</td>\n",
              "      <td>0</td>\n",
              "      <td>1</td>\n",
              "      <td>0</td>\n",
              "      <td>0</td>\n",
              "      <td>0</td>\n",
              "      <td>0</td>\n",
              "      <td>0</td>\n",
              "      <td>0</td>\n",
              "    </tr>\n",
              "    <tr>\n",
              "      <th>22</th>\n",
              "      <td>14</td>\n",
              "      <td>The Terminator</td>\n",
              "      <td>8.0</td>\n",
              "      <td>0</td>\n",
              "      <td>0</td>\n",
              "      <td>0</td>\n",
              "      <td>0</td>\n",
              "      <td>0</td>\n",
              "      <td>0</td>\n",
              "      <td>0</td>\n",
              "      <td>0</td>\n",
              "    </tr>\n",
              "    <tr>\n",
              "      <th>23</th>\n",
              "      <td>69</td>\n",
              "      <td>21 Jump Street</td>\n",
              "      <td>7.2</td>\n",
              "      <td>0</td>\n",
              "      <td>0</td>\n",
              "      <td>0</td>\n",
              "      <td>1</td>\n",
              "      <td>1</td>\n",
              "      <td>0</td>\n",
              "      <td>0</td>\n",
              "      <td>0</td>\n",
              "    </tr>\n",
              "    <tr>\n",
              "      <th>24</th>\n",
              "      <td>98</td>\n",
              "      <td>The Avengers</td>\n",
              "      <td>8.1</td>\n",
              "      <td>0</td>\n",
              "      <td>0</td>\n",
              "      <td>0</td>\n",
              "      <td>0</td>\n",
              "      <td>0</td>\n",
              "      <td>0</td>\n",
              "      <td>0</td>\n",
              "      <td>0</td>\n",
              "    </tr>\n",
              "    <tr>\n",
              "      <th>25</th>\n",
              "      <td>17</td>\n",
              "      <td>Thor: Ragnarok</td>\n",
              "      <td>7.9</td>\n",
              "      <td>0</td>\n",
              "      <td>0</td>\n",
              "      <td>0</td>\n",
              "      <td>1</td>\n",
              "      <td>0</td>\n",
              "      <td>0</td>\n",
              "      <td>0</td>\n",
              "      <td>0</td>\n",
              "    </tr>\n",
              "    <tr>\n",
              "      <th>26</th>\n",
              "      <td>12</td>\n",
              "      <td>Spirit: Stallion of the Cimarron</td>\n",
              "      <td>7.1</td>\n",
              "      <td>0</td>\n",
              "      <td>0</td>\n",
              "      <td>0</td>\n",
              "      <td>0</td>\n",
              "      <td>0</td>\n",
              "      <td>0</td>\n",
              "      <td>0</td>\n",
              "      <td>0</td>\n",
              "    </tr>\n",
              "    <tr>\n",
              "      <th>27</th>\n",
              "      <td>1</td>\n",
              "      <td>Hacksaw Ridge</td>\n",
              "      <td>8.2</td>\n",
              "      <td>1</td>\n",
              "      <td>1</td>\n",
              "      <td>0</td>\n",
              "      <td>0</td>\n",
              "      <td>0</td>\n",
              "      <td>0</td>\n",
              "      <td>1</td>\n",
              "      <td>0</td>\n",
              "    </tr>\n",
              "    <tr>\n",
              "      <th>28</th>\n",
              "      <td>86</td>\n",
              "      <td>12 Years a Slave</td>\n",
              "      <td>8.1</td>\n",
              "      <td>1</td>\n",
              "      <td>1</td>\n",
              "      <td>0</td>\n",
              "      <td>0</td>\n",
              "      <td>0</td>\n",
              "      <td>0</td>\n",
              "      <td>1</td>\n",
              "      <td>0</td>\n",
              "    </tr>\n",
              "    <tr>\n",
              "      <th>29</th>\n",
              "      <td>46</td>\n",
              "      <td>Queen of Katwe</td>\n",
              "      <td>7.4</td>\n",
              "      <td>1</td>\n",
              "      <td>1</td>\n",
              "      <td>0</td>\n",
              "      <td>0</td>\n",
              "      <td>0</td>\n",
              "      <td>0</td>\n",
              "      <td>0</td>\n",
              "      <td>0</td>\n",
              "    </tr>\n",
              "  </tbody>\n",
              "</table>\n",
              "</div>\n",
              "      <button class=\"colab-df-convert\" onclick=\"convertToInteractive('df-ba912934-1bdf-4e29-9fc0-9c0ca5787104')\"\n",
              "              title=\"Convert this dataframe to an interactive table.\"\n",
              "              style=\"display:none;\">\n",
              "        \n",
              "  <svg xmlns=\"http://www.w3.org/2000/svg\" height=\"24px\"viewBox=\"0 0 24 24\"\n",
              "       width=\"24px\">\n",
              "    <path d=\"M0 0h24v24H0V0z\" fill=\"none\"/>\n",
              "    <path d=\"M18.56 5.44l.94 2.06.94-2.06 2.06-.94-2.06-.94-.94-2.06-.94 2.06-2.06.94zm-11 1L8.5 8.5l.94-2.06 2.06-.94-2.06-.94L8.5 2.5l-.94 2.06-2.06.94zm10 10l.94 2.06.94-2.06 2.06-.94-2.06-.94-.94-2.06-.94 2.06-2.06.94z\"/><path d=\"M17.41 7.96l-1.37-1.37c-.4-.4-.92-.59-1.43-.59-.52 0-1.04.2-1.43.59L10.3 9.45l-7.72 7.72c-.78.78-.78 2.05 0 2.83L4 21.41c.39.39.9.59 1.41.59.51 0 1.02-.2 1.41-.59l7.78-7.78 2.81-2.81c.8-.78.8-2.07 0-2.86zM5.41 20L4 18.59l7.72-7.72 1.47 1.35L5.41 20z\"/>\n",
              "  </svg>\n",
              "      </button>\n",
              "      \n",
              "  <style>\n",
              "    .colab-df-container {\n",
              "      display:flex;\n",
              "      flex-wrap:wrap;\n",
              "      gap: 12px;\n",
              "    }\n",
              "\n",
              "    .colab-df-convert {\n",
              "      background-color: #E8F0FE;\n",
              "      border: none;\n",
              "      border-radius: 50%;\n",
              "      cursor: pointer;\n",
              "      display: none;\n",
              "      fill: #1967D2;\n",
              "      height: 32px;\n",
              "      padding: 0 0 0 0;\n",
              "      width: 32px;\n",
              "    }\n",
              "\n",
              "    .colab-df-convert:hover {\n",
              "      background-color: #E2EBFA;\n",
              "      box-shadow: 0px 1px 2px rgba(60, 64, 67, 0.3), 0px 1px 3px 1px rgba(60, 64, 67, 0.15);\n",
              "      fill: #174EA6;\n",
              "    }\n",
              "\n",
              "    [theme=dark] .colab-df-convert {\n",
              "      background-color: #3B4455;\n",
              "      fill: #D2E3FC;\n",
              "    }\n",
              "\n",
              "    [theme=dark] .colab-df-convert:hover {\n",
              "      background-color: #434B5C;\n",
              "      box-shadow: 0px 1px 3px 1px rgba(0, 0, 0, 0.15);\n",
              "      filter: drop-shadow(0px 1px 2px rgba(0, 0, 0, 0.3));\n",
              "      fill: #FFFFFF;\n",
              "    }\n",
              "  </style>\n",
              "\n",
              "      <script>\n",
              "        const buttonEl =\n",
              "          document.querySelector('#df-ba912934-1bdf-4e29-9fc0-9c0ca5787104 button.colab-df-convert');\n",
              "        buttonEl.style.display =\n",
              "          google.colab.kernel.accessAllowed ? 'block' : 'none';\n",
              "\n",
              "        async function convertToInteractive(key) {\n",
              "          const element = document.querySelector('#df-ba912934-1bdf-4e29-9fc0-9c0ca5787104');\n",
              "          const dataTable =\n",
              "            await google.colab.kernel.invokeFunction('convertToInteractive',\n",
              "                                                     [key], {});\n",
              "          if (!dataTable) return;\n",
              "\n",
              "          const docLinkHtml = 'Like what you see? Visit the ' +\n",
              "            '<a target=\"_blank\" href=https://colab.research.google.com/notebooks/data_table.ipynb>data table notebook</a>'\n",
              "            + ' to learn more about interactive tables.';\n",
              "          element.innerHTML = '';\n",
              "          dataTable['output_type'] = 'display_data';\n",
              "          await google.colab.output.renderOutput(dataTable, element);\n",
              "          const docLink = document.createElement('div');\n",
              "          docLink.innerHTML = docLinkHtml;\n",
              "          element.appendChild(docLink);\n",
              "        }\n",
              "      </script>\n",
              "    </div>\n",
              "  </div>\n",
              "  "
            ]
          },
          "metadata": {},
          "execution_count": 64
        }
      ],
      "source": [
        "#Reading the data\n",
        "movie_df = pd.read_csv('https://github.com/ArinB/MSBA-CA-Data/raw/main/CA05/movies_recommendation_data.csv')\n",
        "movie_df"
      ]
    },
    {
      "cell_type": "markdown",
      "source": [
        "### Exploratory Analysis and Data Preparation"
      ],
      "metadata": {
        "id": "7qGzHk1BuM31"
      }
    },
    {
      "cell_type": "code",
      "source": [
        "#Checking the column names\n",
        "movie_df.columns"
      ],
      "metadata": {
        "colab": {
          "base_uri": "https://localhost:8080/"
        },
        "id": "2fxLvM0-bWze",
        "outputId": "da64220a-7b06-4fa1-b2af-7953f2acbeb9"
      },
      "execution_count": null,
      "outputs": [
        {
          "output_type": "execute_result",
          "data": {
            "text/plain": [
              "Index(['Movie ID', 'Movie Name', 'IMDB Rating', 'Biography', 'Drama',\n",
              "       'Thriller', 'Comedy', 'Crime', 'Mystery', 'History', 'Label'],\n",
              "      dtype='object')"
            ]
          },
          "metadata": {},
          "execution_count": 7
        }
      ]
    },
    {
      "cell_type": "code",
      "source": [
        "#Replacing spaces in column names with underscores and checking new column names\n",
        "movie_df.columns = movie_df.columns.str.replace(' ', '_')\n",
        "\n",
        "movie_df.columns"
      ],
      "metadata": {
        "colab": {
          "base_uri": "https://localhost:8080/"
        },
        "id": "XmODBeflcXaT",
        "outputId": "36d6a6fd-e7ee-4932-9c0f-16c339808bed"
      },
      "execution_count": null,
      "outputs": [
        {
          "output_type": "execute_result",
          "data": {
            "text/plain": [
              "Index(['Movie_ID', 'Movie_Name', 'IMDB_Rating', 'Biography', 'Drama',\n",
              "       'Thriller', 'Comedy', 'Crime', 'Mystery', 'History', 'Label'],\n",
              "      dtype='object')"
            ]
          },
          "metadata": {},
          "execution_count": 12
        }
      ]
    },
    {
      "cell_type": "code",
      "source": [
        "#Checking the shape of the data\n",
        "movie_df.shape"
      ],
      "metadata": {
        "colab": {
          "base_uri": "https://localhost:8080/"
        },
        "id": "n_1ggv8abp38",
        "outputId": "e7690771-02cb-45b9-f29a-f94fc9f69de5"
      },
      "execution_count": null,
      "outputs": [
        {
          "output_type": "execute_result",
          "data": {
            "text/plain": [
              "(30, 11)"
            ]
          },
          "metadata": {},
          "execution_count": 9
        }
      ]
    },
    {
      "cell_type": "code",
      "source": [
        "#Checking the data type of each column\n",
        "movie_df.dtypes"
      ],
      "metadata": {
        "colab": {
          "base_uri": "https://localhost:8080/"
        },
        "id": "gAae8AzNbuvU",
        "outputId": "38efc378-9c58-4ca2-8b57-4cf78767411f"
      },
      "execution_count": null,
      "outputs": [
        {
          "output_type": "execute_result",
          "data": {
            "text/plain": [
              "Movie ID         int64\n",
              "Movie Name      object\n",
              "IMDB Rating    float64\n",
              "Biography        int64\n",
              "Drama            int64\n",
              "Thriller         int64\n",
              "Comedy           int64\n",
              "Crime            int64\n",
              "Mystery          int64\n",
              "History          int64\n",
              "Label            int64\n",
              "dtype: object"
            ]
          },
          "metadata": {},
          "execution_count": 10
        }
      ]
    },
    {
      "cell_type": "code",
      "source": [
        "#Describing IMDB Rating column (since this is the only column where applying describe function makes sense)\n",
        "movie_df.IMDB_Rating.describe()"
      ],
      "metadata": {
        "colab": {
          "base_uri": "https://localhost:8080/"
        },
        "id": "GwCTGf3_byUr",
        "outputId": "fd005126-6583-4e2c-dcd6-936fb5d0b4ed"
      },
      "execution_count": null,
      "outputs": [
        {
          "output_type": "execute_result",
          "data": {
            "text/plain": [
              "count    30.000000\n",
              "mean      7.696667\n",
              "std       0.666169\n",
              "min       5.900000\n",
              "25%       7.300000\n",
              "50%       7.750000\n",
              "75%       8.175000\n",
              "max       8.800000\n",
              "Name: IMDB_Rating, dtype: float64"
            ]
          },
          "metadata": {},
          "execution_count": 13
        }
      ]
    },
    {
      "cell_type": "code",
      "source": [
        "#Checking for missing values - no missing values in any of the column\n",
        "movie_df.isnull().sum()"
      ],
      "metadata": {
        "colab": {
          "base_uri": "https://localhost:8080/"
        },
        "id": "fjuWmvCUcnM3",
        "outputId": "5202ca7d-7cb1-4cb7-d2cd-99cf64954a79"
      },
      "execution_count": null,
      "outputs": [
        {
          "output_type": "execute_result",
          "data": {
            "text/plain": [
              "Movie_ID       0\n",
              "Movie_Name     0\n",
              "IMDB_Rating    0\n",
              "Biography      0\n",
              "Drama          0\n",
              "Thriller       0\n",
              "Comedy         0\n",
              "Crime          0\n",
              "Mystery        0\n",
              "History        0\n",
              "Label          0\n",
              "dtype: int64"
            ]
          },
          "metadata": {},
          "execution_count": 14
        }
      ]
    },
    {
      "cell_type": "code",
      "source": [
        "#Droping the Label column as it is not needed for running kNN algorithm\n",
        "movie_df = movie_df.drop('Label', axis=1)\n",
        "movie_df.head()"
      ],
      "metadata": {
        "colab": {
          "base_uri": "https://localhost:8080/",
          "height": 204
        },
        "id": "NxihStEhkyro",
        "outputId": "5a895ffb-aba3-4060-d036-cbfa49cb9905"
      },
      "execution_count": null,
      "outputs": [
        {
          "output_type": "execute_result",
          "data": {
            "text/plain": [
              "   Movie ID          Movie Name  IMDB Rating  Biography  Drama  Thriller  \\\n",
              "0        58  The Imitation Game          8.0          1      1         1   \n",
              "1         8          Ex Machina          7.7          0      1         0   \n",
              "2        46    A Beautiful Mind          8.2          1      1         0   \n",
              "3        62   Good Will Hunting          8.3          0      1         0   \n",
              "4        97        Forrest Gump          8.8          0      1         0   \n",
              "\n",
              "   Comedy  Crime  Mystery  History  \n",
              "0       0      0        0        0  \n",
              "1       0      0        1        0  \n",
              "2       0      0        0        0  \n",
              "3       0      0        0        0  \n",
              "4       0      0        0        0  "
            ],
            "text/html": [
              "\n",
              "  <div id=\"df-f951a415-ff64-4e49-a42c-81820e35aa67\">\n",
              "    <div class=\"colab-df-container\">\n",
              "      <div>\n",
              "<style scoped>\n",
              "    .dataframe tbody tr th:only-of-type {\n",
              "        vertical-align: middle;\n",
              "    }\n",
              "\n",
              "    .dataframe tbody tr th {\n",
              "        vertical-align: top;\n",
              "    }\n",
              "\n",
              "    .dataframe thead th {\n",
              "        text-align: right;\n",
              "    }\n",
              "</style>\n",
              "<table border=\"1\" class=\"dataframe\">\n",
              "  <thead>\n",
              "    <tr style=\"text-align: right;\">\n",
              "      <th></th>\n",
              "      <th>Movie ID</th>\n",
              "      <th>Movie Name</th>\n",
              "      <th>IMDB Rating</th>\n",
              "      <th>Biography</th>\n",
              "      <th>Drama</th>\n",
              "      <th>Thriller</th>\n",
              "      <th>Comedy</th>\n",
              "      <th>Crime</th>\n",
              "      <th>Mystery</th>\n",
              "      <th>History</th>\n",
              "    </tr>\n",
              "  </thead>\n",
              "  <tbody>\n",
              "    <tr>\n",
              "      <th>0</th>\n",
              "      <td>58</td>\n",
              "      <td>The Imitation Game</td>\n",
              "      <td>8.0</td>\n",
              "      <td>1</td>\n",
              "      <td>1</td>\n",
              "      <td>1</td>\n",
              "      <td>0</td>\n",
              "      <td>0</td>\n",
              "      <td>0</td>\n",
              "      <td>0</td>\n",
              "    </tr>\n",
              "    <tr>\n",
              "      <th>1</th>\n",
              "      <td>8</td>\n",
              "      <td>Ex Machina</td>\n",
              "      <td>7.7</td>\n",
              "      <td>0</td>\n",
              "      <td>1</td>\n",
              "      <td>0</td>\n",
              "      <td>0</td>\n",
              "      <td>0</td>\n",
              "      <td>1</td>\n",
              "      <td>0</td>\n",
              "    </tr>\n",
              "    <tr>\n",
              "      <th>2</th>\n",
              "      <td>46</td>\n",
              "      <td>A Beautiful Mind</td>\n",
              "      <td>8.2</td>\n",
              "      <td>1</td>\n",
              "      <td>1</td>\n",
              "      <td>0</td>\n",
              "      <td>0</td>\n",
              "      <td>0</td>\n",
              "      <td>0</td>\n",
              "      <td>0</td>\n",
              "    </tr>\n",
              "    <tr>\n",
              "      <th>3</th>\n",
              "      <td>62</td>\n",
              "      <td>Good Will Hunting</td>\n",
              "      <td>8.3</td>\n",
              "      <td>0</td>\n",
              "      <td>1</td>\n",
              "      <td>0</td>\n",
              "      <td>0</td>\n",
              "      <td>0</td>\n",
              "      <td>0</td>\n",
              "      <td>0</td>\n",
              "    </tr>\n",
              "    <tr>\n",
              "      <th>4</th>\n",
              "      <td>97</td>\n",
              "      <td>Forrest Gump</td>\n",
              "      <td>8.8</td>\n",
              "      <td>0</td>\n",
              "      <td>1</td>\n",
              "      <td>0</td>\n",
              "      <td>0</td>\n",
              "      <td>0</td>\n",
              "      <td>0</td>\n",
              "      <td>0</td>\n",
              "    </tr>\n",
              "  </tbody>\n",
              "</table>\n",
              "</div>\n",
              "      <button class=\"colab-df-convert\" onclick=\"convertToInteractive('df-f951a415-ff64-4e49-a42c-81820e35aa67')\"\n",
              "              title=\"Convert this dataframe to an interactive table.\"\n",
              "              style=\"display:none;\">\n",
              "        \n",
              "  <svg xmlns=\"http://www.w3.org/2000/svg\" height=\"24px\"viewBox=\"0 0 24 24\"\n",
              "       width=\"24px\">\n",
              "    <path d=\"M0 0h24v24H0V0z\" fill=\"none\"/>\n",
              "    <path d=\"M18.56 5.44l.94 2.06.94-2.06 2.06-.94-2.06-.94-.94-2.06-.94 2.06-2.06.94zm-11 1L8.5 8.5l.94-2.06 2.06-.94-2.06-.94L8.5 2.5l-.94 2.06-2.06.94zm10 10l.94 2.06.94-2.06 2.06-.94-2.06-.94-.94-2.06-.94 2.06-2.06.94z\"/><path d=\"M17.41 7.96l-1.37-1.37c-.4-.4-.92-.59-1.43-.59-.52 0-1.04.2-1.43.59L10.3 9.45l-7.72 7.72c-.78.78-.78 2.05 0 2.83L4 21.41c.39.39.9.59 1.41.59.51 0 1.02-.2 1.41-.59l7.78-7.78 2.81-2.81c.8-.78.8-2.07 0-2.86zM5.41 20L4 18.59l7.72-7.72 1.47 1.35L5.41 20z\"/>\n",
              "  </svg>\n",
              "      </button>\n",
              "      \n",
              "  <style>\n",
              "    .colab-df-container {\n",
              "      display:flex;\n",
              "      flex-wrap:wrap;\n",
              "      gap: 12px;\n",
              "    }\n",
              "\n",
              "    .colab-df-convert {\n",
              "      background-color: #E8F0FE;\n",
              "      border: none;\n",
              "      border-radius: 50%;\n",
              "      cursor: pointer;\n",
              "      display: none;\n",
              "      fill: #1967D2;\n",
              "      height: 32px;\n",
              "      padding: 0 0 0 0;\n",
              "      width: 32px;\n",
              "    }\n",
              "\n",
              "    .colab-df-convert:hover {\n",
              "      background-color: #E2EBFA;\n",
              "      box-shadow: 0px 1px 2px rgba(60, 64, 67, 0.3), 0px 1px 3px 1px rgba(60, 64, 67, 0.15);\n",
              "      fill: #174EA6;\n",
              "    }\n",
              "\n",
              "    [theme=dark] .colab-df-convert {\n",
              "      background-color: #3B4455;\n",
              "      fill: #D2E3FC;\n",
              "    }\n",
              "\n",
              "    [theme=dark] .colab-df-convert:hover {\n",
              "      background-color: #434B5C;\n",
              "      box-shadow: 0px 1px 3px 1px rgba(0, 0, 0, 0.15);\n",
              "      filter: drop-shadow(0px 1px 2px rgba(0, 0, 0, 0.3));\n",
              "      fill: #FFFFFF;\n",
              "    }\n",
              "  </style>\n",
              "\n",
              "      <script>\n",
              "        const buttonEl =\n",
              "          document.querySelector('#df-f951a415-ff64-4e49-a42c-81820e35aa67 button.colab-df-convert');\n",
              "        buttonEl.style.display =\n",
              "          google.colab.kernel.accessAllowed ? 'block' : 'none';\n",
              "\n",
              "        async function convertToInteractive(key) {\n",
              "          const element = document.querySelector('#df-f951a415-ff64-4e49-a42c-81820e35aa67');\n",
              "          const dataTable =\n",
              "            await google.colab.kernel.invokeFunction('convertToInteractive',\n",
              "                                                     [key], {});\n",
              "          if (!dataTable) return;\n",
              "\n",
              "          const docLinkHtml = 'Like what you see? Visit the ' +\n",
              "            '<a target=\"_blank\" href=https://colab.research.google.com/notebooks/data_table.ipynb>data table notebook</a>'\n",
              "            + ' to learn more about interactive tables.';\n",
              "          element.innerHTML = '';\n",
              "          dataTable['output_type'] = 'display_data';\n",
              "          await google.colab.output.renderOutput(dataTable, element);\n",
              "          const docLink = document.createElement('div');\n",
              "          docLink.innerHTML = docLinkHtml;\n",
              "          element.appendChild(docLink);\n",
              "        }\n",
              "      </script>\n",
              "    </div>\n",
              "  </div>\n",
              "  "
            ]
          },
          "metadata": {},
          "execution_count": 65
        }
      ]
    },
    {
      "cell_type": "markdown",
      "source": [
        "### Building a Recommender System"
      ],
      "metadata": {
        "id": "kesgjdcbulOC"
      }
    },
    {
      "cell_type": "code",
      "source": [
        "#Setting feature columns and assigning them to a new variable 'x'\n",
        "x = movie_df[['IMDB_Rating', 'Biography', 'Drama','Thriller', 'Comedy', 'Crime', 'Mystery', 'History']]\n",
        "\n",
        "#Setting a class column and assigning it to a new variable 'y'\n",
        "y = movie_df['Movie_Name']"
      ],
      "metadata": {
        "id": "c68UBbamdK37"
      },
      "execution_count": null,
      "outputs": []
    },
    {
      "cell_type": "code",
      "source": [
        "#Defining the kNN model and fitting it on the feature and class data\n",
        "knn_model = NearestNeighbors(n_neighbors=5).fit(x,y)"
      ],
      "metadata": {
        "id": "26TZ9XNle0xI"
      },
      "execution_count": null,
      "outputs": []
    },
    {
      "cell_type": "markdown",
      "source": [
        "**Information about the movie 'The Post':**\n",
        "\n",
        "IMDB Rating = 7.2, Biography = Yes, Drama = Yes, Thriller = No, Comedy = No, Crime = No, Mystery = No, History = Yes"
      ],
      "metadata": {
        "id": "clF2ylfEsl8F"
      }
    },
    {
      "cell_type": "code",
      "source": [
        "#Creating a list containing information about the movie 'The Post'\n",
        "The_Post = [7.2, 1, 1, 0, 0, 0, 0, 1]"
      ],
      "metadata": {
        "id": "zUz-asabfcZQ"
      },
      "execution_count": null,
      "outputs": []
    },
    {
      "cell_type": "code",
      "source": [
        "#Calculating the distances between 'The Post' and all other movies in the dataset, and returning the indices of the 5 movies with the\n",
        "#shortest distances\n",
        "distances, indices = knn_model.kneighbors([The_Post])\n",
        "print(indices)"
      ],
      "metadata": {
        "colab": {
          "base_uri": "https://localhost:8080/"
        },
        "id": "mSMs5XBqgo3i",
        "outputId": "6a679e9a-9351-4654-f8b7-2ecb2aae8507"
      },
      "execution_count": null,
      "outputs": [
        {
          "output_type": "stream",
          "name": "stdout",
          "text": [
            "[[28 27 29 16  2]]\n"
          ]
        },
        {
          "output_type": "stream",
          "name": "stderr",
          "text": [
            "/usr/local/lib/python3.9/dist-packages/sklearn/base.py:439: UserWarning: X does not have valid feature names, but NearestNeighbors was fitted with feature names\n",
            "  warnings.warn(\n"
          ]
        }
      ]
    },
    {
      "cell_type": "code",
      "source": [
        "#Getting the indices of the recommended movies and assigning them to a new variable \"recommended_indices\"\n",
        "recommended_indices = indices[0]\n",
        "#Getting the names of the recommended movies and assigning them to a new variable \"recommended_movies\"\n",
        "recommended_movies = movie_df.iloc[recommended_indices]['Movie_Name'].values"
      ],
      "metadata": {
        "id": "oorqwuWwjmTv"
      },
      "execution_count": null,
      "outputs": []
    },
    {
      "cell_type": "code",
      "source": [
        "#Printing the indices of the recommended movies\n",
        "print(recommended_indices)"
      ],
      "metadata": {
        "colab": {
          "base_uri": "https://localhost:8080/"
        },
        "id": "BEmm1KSwjod3",
        "outputId": "7f5b7e09-7847-46c6-ab26-d6852122091f"
      },
      "execution_count": null,
      "outputs": [
        {
          "output_type": "stream",
          "name": "stdout",
          "text": [
            "[28 27 29 16  2]\n"
          ]
        }
      ]
    },
    {
      "cell_type": "markdown",
      "source": [
        "### Recommendations"
      ],
      "metadata": {
        "id": "7kzFV3acuvHg"
      }
    },
    {
      "cell_type": "code",
      "source": [
        "#Using \"recommended_movies\" to print the top 5 recommended movies after watching 'The Post'\n",
        "print(\"Top 5 Recommendations After Watching 'The Post':\\n\")\n",
        "for title in recommended_movies:\n",
        "    print(title)"
      ],
      "metadata": {
        "colab": {
          "base_uri": "https://localhost:8080/"
        },
        "id": "t0wvoHmai2N-",
        "outputId": "f6acf4c4-30e2-4f20-9768-10ec9eb0848e"
      },
      "execution_count": null,
      "outputs": [
        {
          "output_type": "stream",
          "name": "stdout",
          "text": [
            "Top 5 Recommendations After Watching 'The Post':\n",
            "\n",
            "12 Years a Slave\n",
            "Hacksaw Ridge\n",
            "Queen of Katwe\n",
            "The Wind Rises\n",
            "A Beautiful Mind\n"
          ]
        }
      ]
    }
  ]
}